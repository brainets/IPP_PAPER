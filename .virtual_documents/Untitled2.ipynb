import matplotlib.pyplot as plt
import numpy as np
from tqdm import tqdm


t = np.linspace(-5, 5, 1000)


"""
def gamma(t):
    return np.cos(t), np.sin(t), t


def dgamma(t):
    return -np.sin(t), np.cos(t), 1


def d2gamma(t):
    return -np.cos(t), -np.sin(t), 0


def tanget_curve(t0, t):
    return (np.stack(gamma(t0)) + np.stack(dgamma(t0)) * t[:, None]).T


def normal_curve(t0, t):
    return (np.stack(gamma(t0)) + np.stack(d2gamma(t0)) * t[:, None]).T


def binormal_curve(t0, t):
    xb, yb, zb = np.cross(dgamma(t0), d2gamma(t0))
    binormal = np.array([xb, yb, zb])
    return (np.stack(gamma(t0)) + binormal * t[:, None]).T
""";


def gamma(t):
    return t, t * t, t * t * t


def dgamma(t):
    return 1, 2 * t, 3 * t * t


def d2gamma(t):
    return 0, 2, 6 * t


def tanget_curve(t0, t):
    return (np.stack(gamma(t0)) + np.stack(dgamma(t0)) * t[:, None]).T


def normal_curve(t0, t):
    return (np.stack(gamma(t0)) + np.stack(d2gamma(t0)) * t[:, None]).T


def binormal_curve(t0, t):
    xb, yb, zb = np.cross(dgamma(t0), d2gamma(t0))
    binormal = np.array([xb, yb, zb])
    return (np.stack(gamma(t0)) + binormal * t[:, None]).T


for pos, t0 in enumerate(np.arange(-5, 5, 0.1)):

    x0 = t0
    y0 = t0**2
    z0 = t0**3

    x, y, z = gamma(t)
    xt, yt, zt = dgamma(t0) / np.linalg.norm(dgamma(t0))
    xn, yn, zn = d2gamma(t0) / np.linalg.norm(d2gamma(t0))
    xb, yb, zb = np.cross([xt, yt, zt], [xn, yn, zn])

    xb, yb, zb = np.hstack((xb, yb, zb)) / np.linalg.norm((xb, yb, zb))

    ax = plt.figure(figsize=(12, 12)).add_subplot(projection="3d")

    ax.plot(x, y, z)

    ax.plot([x0, x0 + xt], [y0, y0 + yt], [z0, z0 + zt], c="r", label="tangent", lw=3)
    ax.plot([x0, x0 + xn], [y0, y0 + yn], [z0, z0 + zn], c="g", label="tangent", lw=3)
    ax.plot(
        [x0, x0 + xb], [y0, y0 + yb], [z0, z0 + zb], c="orange", label="tangent", lw=3
    )

    ax.scatter3D(x0, y0, z0, c="k")
    plt.title("Frenet-Serret apparatus", fontsize=15)
    plt.savefig(f"frenet_serret/{pos}.png")
    plt.close()


k = []

for pos, t0 in enumerate(np.arange(-5, 5, 0.1)):
    xt, yt, zt = dgamma(t0) / np.sqrt(np.dot(dgamma(t0), dgamma(t0)))
    xn, yn, zn = d2gamma(t0) / np.sqrt(np.dot(d2gamma(t0), d2gamma(t0)))
    xb, yb, zb = np.cross([xt, yt, zt], [xn, yn, zn])

    T = np.array((xt, yt, zt))
    N = np.array((xt, yt, zt))

    k += [
        np.linalg.norm(np.cross(dgamma(t0), d2gamma(t0)))
        / (np.linalg.norm(dgamma(t0)) ** 3)
    ]


kt = 2 * np.sqrt(9 * t**4 + 9 * t**2 + 1) / (1 + 4 * t**2 + 9 * t**4) ** (3 / 2)


plt.plot(np.arange(-5, 5, 0.1), k)
plt.plot(t, kt, "--")


np.linalg.norm([1, 1, 1])


np.sqrt(3)


t0 = 15

x0 = np.cos(t0)
y0 = np.sin(t0)
z0 = t0

xt, yt, zt = dgamma(t0) / np.dot(dgamma(t0), dgamma(t0))
xn, yn, zn = d2gamma(t0) / np.dot(d2gamma(t0), d2gamma(t0))
xb, yb, zb = np.cross([xt, yt, zt], [xn, yn, zn])


ax = plt.figure(figsize=(12, 12)).add_subplot(projection="3d")
ax.plot([x0, x0 + xt], [y0, y0 + yt], [z0, z0 + zt], c="r", label="tangent", lw=3)
ax.plot([x0, x0 + xn], [y0, y0 + yn], [z0, z0 + zn], c="g", label="tangent", lw=3)
ax.plot([x0, x0 + xb], [y0, y0 + yb], [z0, z0 + zb], c="orange", label="tangent", lw=3)


a = 1

theta = np.linspace(0, 2 * np.pi, 1000)
ax = plt.figure(figsize=(12, 12)).add_subplot(projection="3d")

for a in np.linspace(-5, 5, 100):
    for r in np.linspace(0, 5, 100):

        x = a * np.ones_like(theta)
        y = r * np.cos(theta)
        z = (r * np.cos(theta)) ** 2

        ax.plot(x, y, z, c="g")


a = 1

ax = plt.figure(figsize=(12, 12)).add_subplot(projection="3d")

for x in np.linspace(-5, 5, 50):
    for y in np.linspace(0, 5, 50):

        z = y * y - x * x

        ax.scatter3D(x, y, z, c="g")



