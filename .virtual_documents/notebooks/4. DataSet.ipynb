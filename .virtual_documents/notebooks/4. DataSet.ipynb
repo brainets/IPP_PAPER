import os


import matplotlib
import matplotlib.pyplot as plt
import numpy as np
from matplotlib import colors
from scipy.io import loadmat


path = os.path.expanduser(f"~/storage1/projects/IPP_WANG/src/interareal/")


area_names = [
    "V1",
    "V2",
    "V4",
    "DP",
    "MT",
    "8m",
    "5",
    "8l",
    "TEO",
    "2",
    "F1",
    "STPc",
    "7A",
    "46d",
    "10",
    "9/46v",
    "9/46d",
    "F5",
    "TEpd",
    "PBr",
    "7m",
    "7B",
    "F2",
    "STPi",
    "PROm",
    "F7",
    "8B",
    "STPr",
    "24c",
]
nareas = len(area_names)
iter_ = range(nareas)





data = np.load(os.path.join(path, "markov2014.npy"), allow_pickle=True).all()


FLN, Distances, Hierarchy = data["FLN"], data["Distances"], data["Hierarchy"]


plt.figure(figsize=(6, 5), dpi=300)

im = plt.imshow(
    FLN + 1e-10,
    aspect="auto",
    origin="lower",
    cmap="hot",
    norm=colors.LogNorm(vmin=1e-10, vmax=1),
)
cbar = plt.colorbar(im)
cbar.set_label("connection strength", rotation=270)
plt.xticks(iter_, area_names, rotation=90)
plt.yticks(iter_, area_names)
plt.xlabel("From")
plt.ylabel("To")

plt.savefig("figures/logFLN.pdf")


"""
plt.figure(figsize=(6, 5), dpi=300)
logFLN = np.log(FLN)
masked_array = np.ma.array(logFLN, mask=np.isnan(logFLN))
cmap = matplotlib.cm.get_cmap("hot").copy()
cmap.set_bad('black')
plt.imshow(logFLN, aspect="auto", origin="lower", cmap=cmap)
cbar = plt.colorbar()
cbar.set_label('log(FLN)', rotation=270)
plt.xticks(iter_, area_names, rotation=90);
plt.yticks(iter_, area_names);
plt.xlabel("From")
plt.ylabel("To")

plt.savefig("figures/logFLN.eps")
""";


plt.figure(figsize=(6, 5), dpi=300)
masked_array = np.ma.array(Distances, mask=np.isnan(Distances))
cmap = matplotlib.cm.get_cmap("copper").copy()
cmap.set_bad("black")
plt.imshow(Distances, aspect="auto", origin="lower", cmap=cmap, vmin=0, vmax=50)
cbar = plt.colorbar()
cbar.set_label("Distances [mm]", rotation=270, labelpad=10)
plt.xticks(iter_, area_names, rotation=90)
plt.yticks(iter_, area_names)


plt.savefig("figures/Distances.pdf")


plt.figure(figsize=(6, 2), dpi=300)
ax = plt.subplot(111)
plt.plot(Hierarchy, "o")
plt.xticks(iter_, area_names, rotation=90)
plt.ylabel("Hierarchy value")
[ax.spines[key].set_visible(False) for key in ["top", "right"]]
plt.savefig("figures/Hierarchy.pdf")


import pandas as pd


s = []
t = []
w = []
hs = []
ht = []

nrois = FLN.shape[0]

for i in range(nrois):
    for j in range(nrois):
        w += [FLN[i, j].data]
        s += [area_names[i]]
        t += [area_names[j]]
        hs += [Hierarchy[i]]
        ht += [Hierarchy[j]]


w = np.round(np.stack(w), 5)
s = np.stack(s)
t = np.stack(t)
hs = np.round(np.stack(hs).squeeze(), 4)
ht = np.round(np.stack(ht).squeeze(), 4)


FLN_DF = pd.DataFrame(
    np.stack((w, s, t, hs, ht), axis=1),
    columns=["weight", "source", "target", "hierachy_source", "hierachy_target"],
)


FLN_DF.to_csv("../data/MARKOV.csv", index=False)


pd.read_csv(
    "../data/MARKOV.csv",
)


def create_regions_mapping(regions: list):

    nregions = len(regions)

    return dict(zip(regions, range(nregions)))


def to_mat(df: pd.DataFrame, as_xr: bool = False):

    # Check if DF contains source and target columns
    assert ("source" in df.columns) and ("target" in df.columns)

    # Get sources and targets
    source, target = df.source.values, df.target.values

    # Get unique names
    regions = np.unique(np.concatenate((source, target)))
    # Number of regions
    nregions = len(regions)
    # Create encoding from regions to a given index
    mapping = create_regions_mapping(regions)
    # Allocate matrix
    FLN = np.empty((nregions, nregions))
    # Fill values
    FLN = FLN[
        np.ix_(FLN_DF.source.map(mapping), FLN_DF.target.map(mapping).values)
    ].ravel()
    FLN = FLN_DF.weight.values.astype(float)
    FLN = FLN.reshape(nregions, nregions)

    if as_xr:
        FLN = xr.DataArray(FLN, dims=("sources", "targets"), coords=(regions, regions))
    return FLN


import xarray as xr


to_mat(FLN_DF, True)


source, target = FLN_DF.source.values, FLN_DF.target.values


regions = np.unique(np.concatenate((source, target)))


mapping = create_regions_mapping(regions)


FLN_DF.target.map(mapping)


FLN = np.empty((29, 29))


FLN = FLN[np.ix_(FLN_DF.source.map(mapping), FLN_DF.target.map(mapping).values)].ravel()


FLN = FLN_DF.weight.values.astype(float)


FLN = FLN.reshape(29, 29)


plt.figure(figsize=(6, 5), dpi=300)

im = plt.imshow(
    FLN + 1e-10,
    aspect="auto",
    origin="lower",
    cmap="hot",
    norm=colors.LogNorm(vmin=1e-10, vmax=1),
)
cbar = plt.colorbar(im)
cbar.set_label("connection strength", rotation=270)
plt.xticks(iter_, area_names, rotation=90)
plt.yticks(iter_, area_names)
plt.xlabel("From")
plt.ylabel("To")


FLN



