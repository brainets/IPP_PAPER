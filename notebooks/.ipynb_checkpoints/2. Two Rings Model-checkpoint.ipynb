{
 "cells": [
  {
   "cell_type": "markdown",
   "id": "419c531e-d181-429b-b1f6-84761eae2e3e",
   "metadata": {},
   "source": [
    "### Description of the model"
   ]
  },
  {
   "cell_type": "markdown",
   "id": "d9cbc918-ce11-4f81-b4c1-d489536628dd",
   "metadata": {},
   "source": [
    "In the model with two rings coupled, an extra term representing the feedforward connection from one ring to another, is added to the synaptic current.\n",
    "\n",
    "$I_{lr}(k,t) = \\sum_{q \\in \\text{ remote ring}} W_{qk}R_{q}(t - D_{lr})$\n",
    "\n",
    "The kernel $W_{rqk}$ has a rectangular shape, and it assumes a positive amplitude $A_{lr}$ within the range $k-\\sigma_{lr} \\leq q \\leq k+\\sigma_{lr}$"
   ]
  },
  {
   "cell_type": "code",
   "execution_count": 1,
   "id": "5134089b-07a1-4231-b1c4-13150a6cc646",
   "metadata": {},
   "outputs": [],
   "source": [
    "import matplotlib.pyplot as plt\n",
    "import numpy as np\n",
    "import xarray as xr\n",
    "from numba import *\n",
    "from tqdm import tqdm"
   ]
  },
  {
   "cell_type": "markdown",
   "id": "528a0efe-03a8-4051-b9f5-fda82062b4c4",
   "metadata": {},
   "source": [
    "#### Import core model functions"
   ]
  },
  {
   "cell_type": "code",
   "execution_count": 2,
   "id": "7cc96100-9f7d-470f-a59b-8828733e1ef4",
   "metadata": {},
   "outputs": [],
   "source": [
    "import sys\n",
    "\n",
    "sys.path.insert(1, \"/home/vinicius/storage1/projects/nicole_model\")"
   ]
  },
  {
   "cell_type": "code",
   "execution_count": 3,
   "id": "5f9dcd83-43cc-4e1f-999d-7c70f2027f5f",
   "metadata": {},
   "outputs": [],
   "source": [
    "from src.integration import config_simulation\n",
    "from src.model import create_ring, dRdt, set_external_ring_coupling\n",
    "from src.utils import batch"
   ]
  },
  {
   "cell_type": "code",
   "execution_count": 4,
   "id": "ff0f0ee6-16e1-4d72-8aa6-57dd2a418ed6",
   "metadata": {},
   "outputs": [],
   "source": [
    "def simulate_two_rings(\n",
    "    state=[\"SU\", \"SU\"],\n",
    "    integration=\"euler\",\n",
    "    N=100,\n",
    "    trials=1,\n",
    "    h=0.01,\n",
    "    tsim=10.0,\n",
    "    trans=5.5,\n",
    "    delay=10,\n",
    "    delay_lr=20,\n",
    "    decim=10,\n",
    "    s_pos=0,\n",
    "    s_on=0,\n",
    "    s_off=0,\n",
    "    A_stim=0,\n",
    "    sig_stim=1,\n",
    "    batch_size=1,\n",
    "    verbose=False,\n",
    "):\n",
    "    \"\"\"\n",
    "    Simulates the activity of two coupled neural rings using a differential equation model.\n",
    "\n",
    "    Parameters\n",
    "    ----------\n",
    "    state : list or array-like, optional\n",
    "        Initial state of the two neural rings. Each element of the list is a string that represents\n",
    "        the type of the neural units in the corresponding ring. Default is ['SU', 'SU'].\n",
    "    integration : {'euler', 'rk4'}, optional\n",
    "        Integration method for the differential equations. Default is 'euler'.\n",
    "    N : int, optional\n",
    "        Number of neural units in each ring. Default is 100.\n",
    "    trials : int, optional\n",
    "        Number of independent trials to simulate. Default is 1.\n",
    "    h : float, optional\n",
    "        Integration step size. Default is 0.01.\n",
    "    tsim : float, optional\n",
    "        Total simulation time, in seconds. Default is 10.0.\n",
    "    trans : float, optional\n",
    "        Transient period to discard, in seconds. Default is 5.5.\n",
    "    delay : int, optional\n",
    "        Delay between the external input and the internal dynamics, in time steps. Default is 10.\n",
    "    delay_lr : int, optional\n",
    "        Delay between the two neural rings, in time steps. Default is 20.\n",
    "    decim : int or None, optional\n",
    "        Decimation factor to apply to the simulated data. If None, no decimation is applied.\n",
    "        Default is 10.\n",
    "    s_pos : int or float, optional\n",
    "        Position of the stimulus on the ring, in neural units. If 0, no stimulus is applied.\n",
    "        Default is 0.\n",
    "    s_on : array-like or float, optional\n",
    "        Onset time of the stimulus, in seconds. If float, the same onset time is used for all trials.\n",
    "        If array-like, it should have length equal to the number of trials. Default is 0.\n",
    "    s_off : array-like or float, optional\n",
    "        Offset time of the stimulus, in seconds. If float, the same offset time is used for all trials.\n",
    "        If array-like, it should have length equal to the number of trials. Default is 0.\n",
    "    A_stim : float, optional\n",
    "        Amplitude of the stimulus. Default is 0.\n",
    "    sig_stim : float, optional\n",
    "        Standard deviation of the additive noise in the stimulus. Default is 1.\n",
    "    batch_size : int, optional\n",
    "        Number of trials to simulate in each batch. Default is 1.\n",
    "    verbose : bool, optional\n",
    "        Whether to display a progress bar during the simulation. Default is False.\n",
    "\n",
    "    Returns\n",
    "    -------\n",
    "    R1 : xarray DataArray\n",
    "        Array containing the activity of the first neural ring. It has dimensions (trials, times, nodes),\n",
    "        where 'trials' is the number of independent trials simulated, 'times' is the time axis of the simulation,\n",
    "        and 'nodes' is the number of neural units in the ring.\n",
    "    R2 : xarray DataArray\n",
    "        Array containing the activity of the second neural ring. It has dimensions (trials,\n",
    "    \"\"\"\n",
    "    assert isinstance(state, (list, np.array, tuple))\n",
    "\n",
    "    fint, steps, times = config_simulation(integration, tsim, h)\n",
    "\n",
    "    s_on = [int(onset / h) for onset in s_on]\n",
    "    s_off = [int(offset / h) for offset in s_off]\n",
    "\n",
    "    # Create first ring\n",
    "    J1, Iext1, Istim1, theta1, R1 = create_ring(\n",
    "        state=state[0],\n",
    "        N=N,\n",
    "        trials=trials,\n",
    "        steps=steps,\n",
    "        s_pos=s_pos,\n",
    "        s_on=s_on,\n",
    "        s_off=s_off,\n",
    "        A_stim=A_stim,\n",
    "        sig_stim=sig_stim,\n",
    "    )\n",
    "    # Create second ring\n",
    "    J2, Iext2, Istim2, theta2, R2 = create_ring(\n",
    "        state=state[1],\n",
    "        N=N,\n",
    "        trials=trials,\n",
    "        steps=steps,\n",
    "        s_pos=s_pos,\n",
    "        s_on=s_on,\n",
    "        s_off=s_off,\n",
    "        A_stim=0,\n",
    "        sig_stim=sig_stim,\n",
    "    )\n",
    "\n",
    "    # Define feedforward coupling\n",
    "    J12 = set_external_ring_coupling(N, 15 / N, 3)\n",
    "    # Define feedback coupling\n",
    "    J21 = set_external_ring_coupling(N, 23 / N, 6)\n",
    "\n",
    "    # Index of each trial\n",
    "    trials_idx = np.arange(0, trials, dtype=int)\n",
    "\n",
    "    def _simulate_batch(i_):\n",
    "        R1[i_, : delay + 1] = np.random.uniform(0, 0.1, size=R1[i_, : delay + 1].shape)\n",
    "        R2[i_, : delay + 1] = np.random.uniform(0, 0.1, size=R2[i_, : delay + 1].shape)\n",
    "        # Solve the ODE using RK4\n",
    "        for t in range(delay, steps):\n",
    "            R1[i_, t, :] = fint(\n",
    "                dRdt,\n",
    "                R1[i_, t - 1, :],\n",
    "                times[t],\n",
    "                h,\n",
    "                Iext1[i_, t],\n",
    "                Istim1[t],\n",
    "                R1[i_, t - delay, :] @ J1 + R2[i_, t - delay_lr, :] @ J21.T,\n",
    "            )\n",
    "            R2[i_, t, :] = fint(\n",
    "                dRdt,\n",
    "                R2[i_, t - 1, :],\n",
    "                times[t],\n",
    "                h,\n",
    "                Iext2[i_, t],\n",
    "                0.0,\n",
    "                R2[i_, t - delay, :] @ J2 + R1[i_, t - delay_lr, :] @ J12,\n",
    "            )\n",
    "\n",
    "    # Simulate trial batches\n",
    "    nbatches = int(trials / batch_size)\n",
    "    pbar = batch(trials_idx, n=batch_size)\n",
    "\n",
    "    if verbose:\n",
    "        pbar = tqdm(pbar)\n",
    "\n",
    "    n = 1\n",
    "    for indexes in pbar:\n",
    "        _simulate_batch(indexes)\n",
    "        if verbose:\n",
    "            pbar.set_description(f\"Simulating trials batch {n}/{nbatches}\")\n",
    "            n = n + 1\n",
    "\n",
    "    # Apply decimation\n",
    "    if isinstance(decim, int):\n",
    "        times = times[::decim]\n",
    "        R1 = R1[:, ::decim, :]\n",
    "        R2 = R2[:, ::decim, :]\n",
    "\n",
    "    trans = int(trans / (decim * h))\n",
    "    # Discard transient\n",
    "    R1 = R1[:, trans:, :]\n",
    "    R2 = R2[:, trans:, :]\n",
    "\n",
    "    R1 = xr.DataArray(\n",
    "        R1,\n",
    "        dims=(\"trials\", \"times\", \"nodes\"),\n",
    "        coords=(trials_idx, times[:-trans], theta1),\n",
    "    )\n",
    "\n",
    "    R2 = xr.DataArray(\n",
    "        R2,\n",
    "        dims=(\"trials\", \"times\", \"nodes\"),\n",
    "        coords=(trials_idx, times[:-trans], theta2),\n",
    "    )\n",
    "\n",
    "    # Discard transient\n",
    "    R1 = R1.sel(times=slice(trans))\n",
    "    R2 = R2.sel(times=slice(trans))\n",
    "\n",
    "    return R1, R2"
   ]
  },
  {
   "cell_type": "markdown",
   "id": "60eb43af-91e5-4fe3-8afc-6659f702d8ff",
   "metadata": {},
   "source": [
    "##### Attention ON"
   ]
  },
  {
   "cell_type": "code",
   "execution_count": null,
   "id": "7dcc0d4e-e88c-4ee4-a3d1-4d97baa69ce9",
   "metadata": {},
   "outputs": [],
   "source": [
    "R1, R2 = simulate_two_rings(\n",
    "    state=[\"SU\", \"SB\"],\n",
    "    integration=\"rk4\",\n",
    "    tsim=61 + 40,\n",
    "    trans=40,\n",
    "    trials=50,\n",
    "    batch_size=25,\n",
    "    verbose=True,\n",
    "    decim=10,\n",
    "    s_pos=[50, 10],\n",
    "    s_on=[11 + 40, 46 + 40],\n",
    "    s_off=[31 + 40, 61 + 40],\n",
    "    A_stim=2.0,\n",
    "    sig_stim=8,\n",
    ")"
   ]
  },
  {
   "cell_type": "code",
   "execution_count": null,
   "id": "10af176a-a7e2-41a9-8470-1ac3c93f7d11",
   "metadata": {},
   "outputs": [],
   "source": [
    "plt.subplot(211)\n",
    "R1.sel(trials=20).plot(x=\"times\", cmap=\"Greys\", vmax=0.8)\n",
    "plt.title(\"SENSORY\")\n",
    "plt.subplot(212)\n",
    "R2.sel(trials=20).plot(x=\"times\", cmap=\"Greys\", vmax=0.8)\n",
    "plt.title(\"WORKING MEMORY\")\n",
    "plt.tight_layout()"
   ]
  },
  {
   "cell_type": "markdown",
   "id": "c34ad042-b5b8-4345-86b2-e79f7239c93b",
   "metadata": {},
   "source": [
    "##### Attention OFF"
   ]
  },
  {
   "cell_type": "code",
   "execution_count": null,
   "id": "07755270-9793-4176-b223-efe6692c0228",
   "metadata": {},
   "outputs": [],
   "source": [
    "R1, R2 = simulate_two_rings(\n",
    "    state=[\"SU\", \"SU\"],\n",
    "    integration=\"rk4\",\n",
    "    tsim=61 + 40,\n",
    "    trans=40,\n",
    "    trials=50,\n",
    "    batch_size=25,\n",
    "    verbose=True,\n",
    "    decim=10,\n",
    "    s_pos=[50, 10],\n",
    "    s_on=[11 + 40, 46 + 40],\n",
    "    s_off=[31 + 40, 61 + 40],\n",
    "    A_stim=2.0,\n",
    "    sig_stim=8,\n",
    ")"
   ]
  },
  {
   "cell_type": "code",
   "execution_count": null,
   "id": "d8219754-6377-4562-98d8-ad8ac6ada73a",
   "metadata": {},
   "outputs": [],
   "source": [
    "plt.subplot(211)\n",
    "R1.sel(trials=10).plot(x=\"times\", cmap=\"Greys\", vmax=0.8)\n",
    "plt.title(\"SENSORY\")\n",
    "plt.subplot(212)\n",
    "R2.sel(trials=10).plot(x=\"times\", cmap=\"Greys\", vmax=0.8)\n",
    "plt.title(\"WORKING MEMORY\")\n",
    "plt.tight_layout()"
   ]
  },
  {
   "cell_type": "markdown",
   "id": "382bdd3b-a0d9-43ee-b3ba-247b030655d3",
   "metadata": {},
   "source": [
    "#### IPP analysis"
   ]
  },
  {
   "cell_type": "code",
   "execution_count": null,
   "id": "1de4792b-ae91-4237-a88b-33160e6f234c",
   "metadata": {},
   "outputs": [],
   "source": [
    "# Stimulus positions\n",
    "Spos = np.arange(0, 100, 10, dtype=int)"
   ]
  },
  {
   "cell_type": "code",
   "execution_count": null,
   "id": "2eb0ba76-27e5-4d08-b807-f942750b0181",
   "metadata": {},
   "outputs": [],
   "source": [
    "RSU = []\n",
    "\n",
    "R1, R2 = [], []\n",
    "\n",
    "for spos in Spos:\n",
    "\n",
    "    R1_temp, R2_temp = simulate_two_rings(\n",
    "        state=[\"SU\", \"SB\"],\n",
    "        integration=\"rk4\",\n",
    "        tsim=61 + 40,\n",
    "        trans=40,\n",
    "        trials=300,\n",
    "        batch_size=100,\n",
    "        verbose=True,\n",
    "        decim=10,\n",
    "        s_pos=[50, spos],\n",
    "        s_on=[11 + 40, 46 + 40],\n",
    "        s_off=[31 + 40, 61 + 40],\n",
    "        A_stim=2.0,\n",
    "        sig_stim=8,\n",
    "    )\n",
    "\n",
    "    R1 += [R1_temp]\n",
    "    R2 += [R2_temp]\n",
    "\n",
    "R1 = xr.concat(R1, \"trials\").assign_coords({\"trials\": range(len(Spos) * 300)})\n",
    "R2 = xr.concat(R2, \"trials\").assign_coords({\"trials\": range(len(Spos) * 300)})"
   ]
  },
  {
   "cell_type": "code",
   "execution_count": null,
   "id": "ab5d6b28-6f28-4ca8-95ec-fed833404f8c",
   "metadata": {},
   "outputs": [],
   "source": [
    "from src.infodyn.conn_pid import conn_pid"
   ]
  },
  {
   "cell_type": "code",
   "execution_count": null,
   "id": "997bfe5c-56fa-4d3f-bb1c-a598b47ccb4b",
   "metadata": {},
   "outputs": [],
   "source": [
    "stim = np.repeat(Spos, 300)"
   ]
  },
  {
   "cell_type": "code",
   "execution_count": null,
   "id": "fcc626d7-ba7e-4bc5-8200-0219d9b0e3ba",
   "metadata": {},
   "outputs": [],
   "source": [
    "nodes1 = [f\"{i}_1\" for i in range(100)]\n",
    "nodes2 = [f\"{i}_2\" for i in range(100)]"
   ]
  },
  {
   "cell_type": "code",
   "execution_count": null,
   "id": "8b3d79dc-10c4-4c39-b6ca-31abf886acb8",
   "metadata": {},
   "outputs": [],
   "source": [
    "R1 = R1.assign_coords({\"nodes\": nodes1})\n",
    "R2 = R2.assign_coords({\"nodes\": nodes2})"
   ]
  },
  {
   "cell_type": "code",
   "execution_count": null,
   "id": "5da1cc21-1918-42e4-8c16-005311477330",
   "metadata": {},
   "outputs": [],
   "source": [
    "R = xr.concat((R1, R2), \"nodes\")"
   ]
  },
  {
   "cell_type": "code",
   "execution_count": null,
   "id": "e5c4f25b-3427-4748-929b-fc6a37adf8d6",
   "metadata": {},
   "outputs": [],
   "source": [
    "pairs = np.stack((range(100), range(100, 200)), 1)"
   ]
  },
  {
   "cell_type": "code",
   "execution_count": null,
   "id": "f894c004-bd8c-4a0f-a6e7-cfa0697b311a",
   "metadata": {},
   "outputs": [],
   "source": [
    "def fix_frites(func):  # noqa\n",
    "    def _fix(*args, **kwargs):\n",
    "        try:\n",
    "            return func(*args, **kwargs)\n",
    "        except:\n",
    "            return 0\n",
    "\n",
    "    return _fix"
   ]
  },
  {
   "cell_type": "code",
   "execution_count": null,
   "id": "52a1c445-3f05-47e0-bd2b-db8867a2d471",
   "metadata": {},
   "outputs": [],
   "source": [
    "conn_pid = fix_frites(conn_pid)"
   ]
  },
  {
   "cell_type": "code",
   "execution_count": null,
   "id": "03644a01-b513-48dd-9428-f14cc636386c",
   "metadata": {
    "tags": []
   },
   "outputs": [],
   "source": [
    "mi_node, unique, infotot, redundancy, synergy = conn_pid(\n",
    "    R.transpose(\"trials\", \"nodes\", \"times\"),\n",
    "    stim,\n",
    "    roi=\"nodes\",\n",
    "    times=\"times\",\n",
    "    mi_type=\"cd\",\n",
    "    dt=10,\n",
    "    verbose=True,\n",
    "    pairs=pairs,\n",
    "    directed=False,\n",
    ")"
   ]
  },
  {
   "cell_type": "code",
   "execution_count": null,
   "id": "7fce5b6a-6baa-42d4-910e-d8d5bcce93e9",
   "metadata": {},
   "outputs": [],
   "source": [
    "# Plotting\n",
    "plt.figure(figsize=(7, 4))\n",
    "\n",
    "times = redundancy.times.data\n",
    "\"\"\"\n",
    "plt.plot(\n",
    "    times,\n",
    "    infotot.mean(\"roi\").squeeze(),\n",
    "    color=\"blue\",\n",
    "    linestyle=\"--\",\n",
    "    label=r\"$I_{TOT}$\",\n",
    ")\"\"\"\n",
    "plt.plot(times, redundancy.mean(\"roi\").squeeze(), color=\"red\", label=\"Red\")\n",
    "plt.plot(times, synergy.mean(\"roi\").squeeze(), color=\"green\", label=\"Syn\")\n",
    "plt.legend()\n",
    "\n",
    "plt.title(\"PID of task-related comodulation between neural times series\")\n",
    "\n",
    "plt.tight_layout()\n",
    "plt.show()"
   ]
  },
  {
   "cell_type": "code",
   "execution_count": null,
   "id": "59e20432-f782-4398-a382-85f9434b6a71",
   "metadata": {},
   "outputs": [],
   "source": [
    "plt.imshow(\n",
    "    synergy,\n",
    "    aspect=\"auto\",\n",
    "    origin=\"lower\",\n",
    ")\n",
    "plt.title(\"Synergy\")\n",
    "plt.xlabel(\"Times\")\n",
    "plt.ylabel(\"Nodes\")\n",
    "plt.colorbar()"
   ]
  },
  {
   "cell_type": "code",
   "execution_count": null,
   "id": "0ad9fb2e-5f03-4b62-a323-57a43e11b028",
   "metadata": {},
   "outputs": [],
   "source": [
    "plt.imshow(\n",
    "    redundancy,\n",
    "    aspect=\"auto\",\n",
    "    origin=\"lower\",\n",
    ")\n",
    "plt.title(\"Redundancy\")\n",
    "plt.xlabel(\"Times\")\n",
    "plt.ylabel(\"Nodes\")\n",
    "plt.colorbar()"
   ]
  },
  {
   "cell_type": "code",
   "execution_count": null,
   "id": "a9ffe0ba-70d1-4ef4-8382-f50c1ceb5627",
   "metadata": {},
   "outputs": [],
   "source": [
    "plt.plot(synergy.mean(\"times\"))\n",
    "plt.vlines(50, 0.3, 1.4, \"r\", \"--\")\n",
    "plt.ylim(0.3, 1.4)\n",
    "plt.ylabel(\"Synergy\")\n",
    "plt.xlabel(\"Nodes\")"
   ]
  },
  {
   "cell_type": "code",
   "execution_count": null,
   "id": "b3d4cdac-c7d6-485d-811c-43f918dc2a74",
   "metadata": {},
   "outputs": [],
   "source": []
  }
 ],
 "metadata": {
  "kernelspec": {
   "display_name": "Python 3 (ipykernel)",
   "language": "python",
   "name": "python3"
  },
  "language_info": {
   "codemirror_mode": {
    "name": "ipython",
    "version": 3
   },
   "file_extension": ".py",
   "mimetype": "text/x-python",
   "name": "python",
   "nbconvert_exporter": "python",
   "pygments_lexer": "ipython3",
   "version": "3.9.16"
  }
 },
 "nbformat": 4,
 "nbformat_minor": 5
}
