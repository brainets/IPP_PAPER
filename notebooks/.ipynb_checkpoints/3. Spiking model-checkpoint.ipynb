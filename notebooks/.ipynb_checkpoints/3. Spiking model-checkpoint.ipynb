{
 "cells": [
  {
   "cell_type": "markdown",
   "id": "18fcc447-0b9b-4888-936d-24e4c0b17fdb",
   "metadata": {},
   "source": [
    "### Mean field model with a layered circuit"
   ]
  },
  {
   "cell_type": "code",
   "execution_count": 1,
   "id": "f392cfab-6c04-42dd-970e-5efdcf0ea06d",
   "metadata": {},
   "outputs": [],
   "source": [
    "import sys\n",
    "\n",
    "sys.path.insert(1, \"/home/vinicius/storage1/projects/IPP_WANG\")"
   ]
  },
  {
   "cell_type": "code",
   "execution_count": 2,
   "id": "58ef9717-05d9-424e-b453-75743f29a3eb",
   "metadata": {},
   "outputs": [
    {
     "name": "stdout",
     "output_type": "stream",
     "text": [
      "\n",
      "              -- N E S T --\n",
      "  Copyright (C) 2004 The NEST Initiative\n",
      "\n",
      " Version: nest-3.0\n",
      " Built: Jan  4 2023 15:13:43\n",
      "\n",
      " This program is provided AS IS and comes with\n",
      " NO WARRANTY. See the file LICENSE for details.\n",
      "\n",
      " Problems or suggestions?\n",
      "   Visit https://www.nest-simulator.org\n",
      "\n",
      " Type 'nest.help()' to find out more about NEST.\n",
      "\n"
     ]
    }
   ],
   "source": [
    "import numpy as np\n",
    "import nest\n",
    "import src.setParams\n",
    "import matplotlib.pyplot as plt\n",
    "import src.plot_figures as plot_figures\n",
    "import src.plot_utils as plot\n",
    "import src.spikingmodel as spikingmodel"
   ]
  },
  {
   "cell_type": "code",
   "execution_count": 3,
   "id": "054c3e6e-a051-4fd8-b196-d88465e2918a",
   "metadata": {},
   "outputs": [],
   "source": [
    "#nest.set_verbosity(\"M_ERROR\")"
   ]
  },
  {
   "cell_type": "markdown",
   "id": "fe7a2648-e7c8-477b-bea7-849dbd760f0d",
   "metadata": {},
   "source": [
    "### Simulation parameters"
   ]
  },
  {
   "cell_type": "code",
   "execution_count": 4,
   "id": "72aed41b-f137-49d8-bdb0-4e9fbccf3fda",
   "metadata": {},
   "outputs": [],
   "source": [
    "lnt = 20"
   ]
  },
  {
   "cell_type": "markdown",
   "id": "f8e69da5-bfa2-4d88-b7e5-cf9996e721b7",
   "metadata": {},
   "source": [
    "### Model parameters"
   ]
  },
  {
   "cell_type": "code",
   "execution_count": 5,
   "id": "7ba0c682-9031-4a28-a8ca-9467eea729bd",
   "metadata": {},
   "outputs": [],
   "source": [
    "simtime = 1000.0           # Simulation time (ms)\n",
    "dt      = 0.1              # Simulation resolution (ms)\n",
    "np.random.seed(10)"
   ]
  },
  {
   "cell_type": "markdown",
   "id": "edbba7fe-d83c-44f3-bc6f-6f9a53de3068",
   "metadata": {},
   "source": [
    "### Asynchronous"
   ]
  },
  {
   "cell_type": "markdown",
   "id": "b66ee1c2-eb30-4347-83d4-aae5c447f4d0",
   "metadata": {},
   "source": [
    "#### Weak GBA"
   ]
  },
  {
   "cell_type": "code",
   "execution_count": null,
   "id": "220d5823-a0fd-48e0-b439-42744d1b6d7d",
   "metadata": {},
   "outputs": [
    {
     "name": "stdout",
     "output_type": "stream",
     "text": [
      "\n",
      "Apr 05 18:04:21 SimulationManager::set_status [Info]: \n",
      "    Temporal resolution changed.\n"
     ]
    }
   ],
   "source": [
    "i_aw, _, t_aw, _, maxf_aw,_,_ = spikingmodel.simulate(lnt = lnt, seed = 10,\n",
    "                                                      simtime = simtime, reg = 'async',\n",
    "                                                      gba = 'weak-gba', transient = 0, dt = dt)"
   ]
  },
  {
   "cell_type": "markdown",
   "id": "b0c49f64-8fc1-4dda-b26c-8e54fe0e4b4c",
   "metadata": {
    "tags": []
   },
   "source": [
    "#### Strong GBA"
   ]
  },
  {
   "cell_type": "code",
   "execution_count": null,
   "id": "87fed4f0-5d2c-4e65-9f15-d8b381ae4e89",
   "metadata": {},
   "outputs": [],
   "source": [
    "i_as, _, t_as, _, maxf_as,_,_ = spikingmodel.simulate(lnt = lnt, seed = 10, simtime = simtime,\n",
    "                                                reg = 'async', gba = 'strong-gba',\n",
    "                                                transient = 0, dt = dt)"
   ]
  },
  {
   "cell_type": "markdown",
   "id": "cc48e2c9-ff06-4323-bc58-991c090667de",
   "metadata": {},
   "source": [
    "### Synchronous"
   ]
  },
  {
   "cell_type": "markdown",
   "id": "2ccfd6f7-8c37-4289-affc-2f97a23a7287",
   "metadata": {},
   "source": [
    "#### Weak GBA"
   ]
  },
  {
   "cell_type": "markdown",
   "id": "30cef71e-284b-4918-8fa4-23e301fdaff2",
   "metadata": {},
   "source": [
    "#### Strong GBA"
   ]
  },
  {
   "cell_type": "code",
   "execution_count": null,
   "id": "640c4ef7-3663-45f9-96c7-76d8f530f2ec",
   "metadata": {},
   "outputs": [],
   "source": []
  },
  {
   "cell_type": "code",
   "execution_count": null,
   "id": "504c0bf3-2252-4024-9cd6-b4ad9aba4751",
   "metadata": {},
   "outputs": [],
   "source": []
  },
  {
   "cell_type": "code",
   "execution_count": null,
   "id": "f1a0680c-7a6d-49d8-9166-0ef21b48b188",
   "metadata": {},
   "outputs": [],
   "source": []
  },
  {
   "cell_type": "code",
   "execution_count": null,
   "id": "360a05d9-097b-47ae-8274-19a3ae820599",
   "metadata": {},
   "outputs": [],
   "source": []
  },
  {
   "cell_type": "code",
   "execution_count": null,
   "id": "1f78ba37-53a4-4b06-b002-fdaf0d454ee3",
   "metadata": {},
   "outputs": [],
   "source": []
  },
  {
   "cell_type": "code",
   "execution_count": null,
   "id": "be49cfaa-6f81-442c-87b6-74ef742caac4",
   "metadata": {},
   "outputs": [],
   "source": []
  },
  {
   "cell_type": "code",
   "execution_count": null,
   "id": "c37a5f4a-88dd-4c5a-8903-b3cc39f68cfd",
   "metadata": {},
   "outputs": [],
   "source": []
  },
  {
   "cell_type": "code",
   "execution_count": null,
   "id": "da4f8e6b-8da2-4198-a318-35a7849c6353",
   "metadata": {},
   "outputs": [],
   "source": []
  },
  {
   "cell_type": "code",
   "execution_count": null,
   "id": "4f1c2cf1-b1bf-4973-a762-cbeab279c55b",
   "metadata": {},
   "outputs": [],
   "source": []
  },
  {
   "cell_type": "code",
   "execution_count": null,
   "id": "5cf99146-7970-431d-9078-8335cf1537b8",
   "metadata": {},
   "outputs": [],
   "source": [
    "muee_vec    = np.arange(20,52,2, dtype=float)\n",
    "max_r_24c_f = np.zeros([muee_vec.shape[0],2]) # Store max freq in 24c with max_cond = False\n",
    "max_r_24c_t = np.zeros([muee_vec.shape[0],2]) # Store max freq in 24c with max_cond = True\n",
    "#params['Iext']            = 22.05*1.9\n",
    "params = setParams.get_params_rate_model()\n",
    "\n",
    "for uu in [0,1]:\n",
    "    for i in range(muee_vec.shape[0]):\n",
    "        if uu == 1:\n",
    "            params['weights']['wei']  = 19.7 + (muee_vec[i]-33.7)*55.0/178.0\n",
    "        else:\n",
    "            params['weights']['wei']  = 19.7\n",
    "        params['weights']['muee'] = muee_vec[i]\n",
    "        t,r,max_freq = meanfield.simulate(simtime = simtime, dt = dt, params = params, seed = 10, max_cond = False)\n",
    "        max_r_24c_f[i,uu] = max_freq[-1]-10\n",
    "        if max_r_24c_f[i,uu] > 500.:\n",
    "            max_r_24c_f[i,uu] = 500.\n",
    "\n",
    "for uu in [0,1]:\n",
    "    for i in range(muee_vec.shape[0]):\n",
    "        if uu == 1:\n",
    "            params['weights']['wei']  = 19.7 + (muee_vec[i]-33.7)*55.0/178.0\n",
    "        else:\n",
    "            params['weights']['wei']  = 19.7\n",
    "        params['weights']['muee'] = muee_vec[i]\n",
    "        t,r,max_freq = meanfield.simulate(simtime = simtime, dt = dt, params = params, seed = 10, max_cond = True)\n",
    "        max_r_24c_t[i,uu] = max_freq[-1]-10\n",
    "        if max_r_24c_t[i,uu] > 500.:\n",
    "            max_r_24c_t[i,uu] = 500."
   ]
  },
  {
   "cell_type": "markdown",
   "id": "3d6d50a4-f527-4c7f-989e-7e8158b67463",
   "metadata": {},
   "source": [
    "#### Model"
   ]
  },
  {
   "cell_type": "code",
   "execution_count": null,
   "id": "dea0e159-166c-45b6-8855-97c7d661e36a",
   "metadata": {},
   "outputs": [],
   "source": [
    "fig = plt.figure(figsize=(4, 2), dpi=300)\n",
    "\n",
    "\n",
    "def plot_png(ax, figname):\n",
    "    png = plt.imread(figname)\n",
    "    plt.sca(ax)\n",
    "    im = plt.imshow(png, interpolation='none')\n",
    "    plt.axis('off')    \n",
    "    pad = 10\n",
    "    plt.xlim(-pad, png.shape[1]+pad)\n",
    "    plt.ylim(png.shape[0]+pad, -pad)       \n",
    "    \n",
    "gs0 = fig.add_gridspec(\n",
    "    nrows=1,\n",
    "    ncols=2,\n",
    "    left=0.05,\n",
    "    right=0.95,\n",
    "    hspace=0.05,\n",
    "    bottom=0.05,\n",
    "    top=0.95,\n",
    ")\n",
    "\n",
    "axs0 = [plt.subplot(gs0[i]) for i in range(2)]\n",
    "\n",
    "for i in range(2):\n",
    "    plot_png(axs0[i], f\"circuit{i + 1}.png\")\n",
    "    if i == 0:\n",
    "        plt.title(\"Weak GBA\")\n",
    "    else:\n",
    "        plt.title(\"Strong GBA\")\n",
    "\n",
    "bg = plot.Background(visible=False)"
   ]
  },
  {
   "cell_type": "code",
   "execution_count": null,
   "id": "813e480d-1fc8-4938-ac34-c4d40f89835c",
   "metadata": {},
   "outputs": [],
   "source": [
    "plt.figure(figsize=(12, 8))\n",
    "plot_figures.fig3b_d(tidx, r_w, max_freq_w, r_s, max_freq_s)"
   ]
  },
  {
   "cell_type": "code",
   "execution_count": null,
   "id": "79de7520-1f74-41c2-b01f-446d144f3d81",
   "metadata": {},
   "outputs": [],
   "source": [
    "plot_figures.fig3_f(muee_vec, max_r_24c_t, max_r_24c_f)"
   ]
  }
 ],
 "metadata": {
  "kernelspec": {
   "display_name": "Python 3 (ipykernel)",
   "language": "python",
   "name": "python3"
  },
  "language_info": {
   "codemirror_mode": {
    "name": "ipython",
    "version": 3
   },
   "file_extension": ".py",
   "mimetype": "text/x-python",
   "name": "python",
   "nbconvert_exporter": "python",
   "pygments_lexer": "ipython3",
   "version": "3.9.13"
  }
 },
 "nbformat": 4,
 "nbformat_minor": 5
}
