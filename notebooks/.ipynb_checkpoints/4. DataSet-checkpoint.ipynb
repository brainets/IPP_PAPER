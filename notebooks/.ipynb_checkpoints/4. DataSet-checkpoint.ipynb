{
 "cells": [
  {
   "cell_type": "code",
   "execution_count": 1,
   "id": "d040d00e-7f71-44b6-8545-10ff9a94595f",
   "metadata": {},
   "outputs": [],
   "source": [
    "import os"
   ]
  },
  {
   "cell_type": "code",
   "execution_count": null,
   "id": "d74ca55f-662d-4deb-9aa1-16699742f91d",
   "metadata": {},
   "outputs": [],
   "source": [
    "import numpy as np\n",
    "import matplotlib\n",
    "import matplotlib.pyplot as plt\n",
    "from scipy.io import loadmat"
   ]
  },
  {
   "cell_type": "code",
   "execution_count": null,
   "id": "4f4acbf2-ef77-47d7-9151-7f3b3a3b1728",
   "metadata": {},
   "outputs": [],
   "source": [
    "path = os.path.expanduser(f\"~/storage1/projects/IPP_WANG/src/interareal/\")"
   ]
  },
  {
   "cell_type": "code",
   "execution_count": null,
   "id": "15c117dc-fdb8-467f-9e5b-6a2f1324077c",
   "metadata": {},
   "outputs": [],
   "source": [
    "area_names = ['V1','V2','V4','DP','MT','8m','5','8l','TEO','2','F1','STPc','7A','46d','10','9/46v',\\\n",
    "        '9/46d','F5','TEpd','PBr','7m','7B','F2','STPi','PROm','F7','8B','STPr','24c']\n",
    "nareas = len(area_names)\n",
    "iter_ = range(nareas)"
   ]
  },
  {
   "cell_type": "markdown",
   "id": "1c19eda3-2598-435d-a48b-5e3ac307afe8",
   "metadata": {},
   "source": [
    "### Connectivity weights FLN"
   ]
  },
  {
   "cell_type": "code",
   "execution_count": null,
   "id": "80e6c72e-61ee-4ecd-8ca9-831a9c3b6003",
   "metadata": {},
   "outputs": [],
   "source": [
    "data = np.load(os.path.join(path, \"markov2014.npy\"), allow_pickle=True).all()"
   ]
  },
  {
   "cell_type": "code",
   "execution_count": null,
   "id": "2b08200d-cb31-4c74-a14e-97f062bab3d7",
   "metadata": {},
   "outputs": [],
   "source": [
    "FLN, Distances, Hierarchy = data[\"FLN\"], data[\"Distances\"], data[\"Hierarchy\"]"
   ]
  },
  {
   "cell_type": "code",
   "execution_count": null,
   "id": "089d1d95-60ab-48f0-bca7-f95100dd31b2",
   "metadata": {},
   "outputs": [],
   "source": [
    "plt.figure(figsize=(6, 5), dpi=300)\n",
    "logFLN = np.log(FLN)\n",
    "masked_array = np.ma.array(logFLN, mask=np.isnan(logFLN))\n",
    "cmap = matplotlib.cm.get_cmap(\"hot\").copy()\n",
    "cmap.set_bad('black')\n",
    "plt.imshow(logFLN, aspect=\"auto\", origin=\"lower\", cmap=cmap)\n",
    "cbar = plt.colorbar()\n",
    "cbar.set_label('log(FLN)', rotation=270)\n",
    "plt.xticks(iter_, area_names, rotation=90);\n",
    "plt.yticks(iter_, area_names);\n",
    "plt.xlabel(\"From\")\n",
    "plt.ylabel(\"To\")\n",
    "\n",
    "plt.savefig(\"figures/logFLN.eps\")"
   ]
  },
  {
   "cell_type": "code",
   "execution_count": null,
   "id": "4112f71c-56cd-4f54-b325-64731bd57d8e",
   "metadata": {},
   "outputs": [],
   "source": [
    "plt.figure(figsize=(6, 5), dpi=300)\n",
    "masked_array = np.ma.array(Distances, mask=np.isnan(Distances))\n",
    "cmap = matplotlib.cm.get_cmap(\"copper\").copy()\n",
    "cmap.set_bad('black')\n",
    "plt.imshow(Distances, aspect=\"auto\", origin=\"lower\", cmap=cmap, vmin=0, vmax=50)\n",
    "cbar = plt.colorbar()\n",
    "cbar.set_label('Distances [mm]', rotation=270, labelpad=10)\n",
    "plt.xticks(iter_, area_names, rotation=90);\n",
    "plt.yticks(iter_, area_names);\n",
    "\n",
    "\n",
    "plt.savefig(\"figures/Distances.eps\")"
   ]
  },
  {
   "cell_type": "code",
   "execution_count": null,
   "id": "cd396311-0a16-4d25-8829-6672cfa8e698",
   "metadata": {},
   "outputs": [],
   "source": [
    "plt.figure(figsize=(6, 5), dpi=300)\n",
    "\n",
    "plt.plot(Hierarchy, \"o\")\n",
    "plt.xticks(iter_, area_names, rotation=90);\n",
    "plt.ylabel(\"Hierarchy value\")\n",
    "\n",
    "plt.savefig(\"figures/Hierarchy.eps\")"
   ]
  }
 ],
 "metadata": {
  "kernelspec": {
   "display_name": "Python 3 (ipykernel)",
   "language": "python",
   "name": "python3"
  },
  "language_info": {
   "codemirror_mode": {
    "name": "ipython",
    "version": 3
   },
   "file_extension": ".py",
   "mimetype": "text/x-python",
   "name": "python",
   "nbconvert_exporter": "python",
   "pygments_lexer": "ipython3",
   "version": "3.9.13"
  }
 },
 "nbformat": 4,
 "nbformat_minor": 5
}
