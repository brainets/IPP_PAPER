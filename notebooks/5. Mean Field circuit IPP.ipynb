{
 "cells": [
  {
   "cell_type": "markdown",
   "id": "fe6b0512-a18f-4cda-82da-8f72957592a4",
   "metadata": {},
   "source": [
    "### Information processing primitives for the Joglekar & Wang rate model\n",
    "\n",
    "\n",
    "The model ([Joglekar et. al., 2018](https://www.sciencedirect.com/science/article/pii/S0896627318301521)) is constructed using structural data from the monkey ([Markov et. al., 2013](https://academic.oup.com/cercor/article/24/1/17/272931)), and it is used to study mechanisms of propagation in the brain network via a mechanism called **global balance amplification (GBA)**, which consists of increasing long range excitatory to excitatory connections, and local recurrent inhibitions in order to maintain stability. Here, weak and strong GBA will be used as proxies for reduced and increased attention, respectively."
   ]
  },
  {
   "cell_type": "code",
   "execution_count": null,
   "id": "d5317bdd-728a-4da0-b11c-12946b34de96",
   "metadata": {},
   "outputs": [],
   "source": [
    "import sys\n",
    "\n",
    "sys.path.insert(1, \"/home/vinicius/storage1/projects/IPP_WANG\")"
   ]
  },
  {
   "cell_type": "code",
   "execution_count": null,
   "id": "6899a598-5421-48ff-9f34-150232eb1bca",
   "metadata": {},
   "outputs": [],
   "source": [
    "import matplotlib.pyplot as plt\n",
    "import numpy as np\n",
    "import xarray as xr\n",
    "from frites.conn import conn_te\n",
    "from tqdm import tqdm\n",
    "\n",
    "from src.infodyn.conn_pid import conn_pid"
   ]
  },
  {
   "cell_type": "code",
   "execution_count": null,
   "id": "7ad68b3d-577c-4cec-afb6-853ca5dd6cf6",
   "metadata": {},
   "outputs": [],
   "source": [
    "fig = plt.figure(figsize=(4, 2), dpi=300)\n",
    "\n",
    "\n",
    "def plot_png(ax, figname):\n",
    "    png = plt.imread(figname)\n",
    "    plt.sca(ax)\n",
    "    im = plt.imshow(png, interpolation=\"none\")\n",
    "    plt.axis(\"off\")\n",
    "    pad = 10\n",
    "    plt.xlim(-pad, png.shape[1] + pad)\n",
    "    plt.ylim(png.shape[0] + pad, -pad)\n",
    "\n",
    "\n",
    "gs0 = fig.add_gridspec(\n",
    "    nrows=1,\n",
    "    ncols=2,\n",
    "    left=0.05,\n",
    "    right=0.95,\n",
    "    hspace=0.05,\n",
    "    bottom=0.05,\n",
    "    top=0.95,\n",
    ")\n",
    "\n",
    "axs0 = [plt.subplot(gs0[i]) for i in range(2)]\n",
    "\n",
    "for i in range(2):\n",
    "    plot_png(axs0[i], f\"figures/circuit{i + 1}.png\")\n",
    "    if i == 0:\n",
    "        plt.title(\"Weak GBA\")\n",
    "    else:\n",
    "        plt.title(\"Strong GBA\")\n",
    "\n",
    "plt.savefig(\"figures/circuitGBA.pdf\")"
   ]
  },
  {
   "cell_type": "code",
   "execution_count": null,
   "id": "e3502a72-1539-438d-a1ea-89d6364d2034",
   "metadata": {},
   "outputs": [],
   "source": [
    "protocol = 2"
   ]
  },
  {
   "cell_type": "code",
   "execution_count": null,
   "id": "337547a4-01a1-44cc-9e67-cdb18a33ae40",
   "metadata": {},
   "outputs": [],
   "source": [
    "rates = xr.load_dataarray(f\"../data/protocol{protocol}.nc\")[..., ::10]"
   ]
  },
  {
   "cell_type": "code",
   "execution_count": null,
   "id": "5443b2bc-b70a-4d68-ab5d-99c27ba4c43b",
   "metadata": {},
   "outputs": [],
   "source": [
    "if protocol == 2:\n",
    "    rates = rates.sel(times=slice(3000, 7000))"
   ]
  },
  {
   "cell_type": "markdown",
   "id": "8f8b2c65-7433-48e2-9896-a33673f0aebb",
   "metadata": {},
   "source": [
    "#### Firing rate average over trials"
   ]
  },
  {
   "cell_type": "markdown",
   "id": "796bf8f1-9200-474f-8afd-31e240549551",
   "metadata": {},
   "source": [
    "Here, we simulated two types of trials: fixation (F) and task (T). Those are used to emulate working memory tasks, were in task trials a stimulus is presented during a cue period, and a match period that are separated by a delay (or memory) period. In fixation trials, no stimulus is presented, therefore when computing information primitives, we use the presence or absence of stimulus as stimulus label (thus, there is no computation involve stimulus identity, only stimulus presence).\n",
    "\n",
    "\n",
    "For the task trials, the stimulus is presented from 1000 to 1500 ms, and again from 3500 to 3800 ms. In total, 1000 task, and a 1000 fixation trials were simulated for each condition, strong and weak GBA. Hence, 4000 trials in total. The total simulation time was 7000 ms."
   ]
  },
  {
   "cell_type": "code",
   "execution_count": null,
   "id": "0d341bce-16b8-4c9d-9312-69a13765f023",
   "metadata": {},
   "outputs": [],
   "source": [
    "rois, times = rates.roi.data, rates.times.data\n",
    "times = (times - 4500) / 1000"
   ]
  },
  {
   "cell_type": "code",
   "execution_count": null,
   "id": "07f87268-7c4e-4e1f-a165-05cb6a6dd1df",
   "metadata": {},
   "outputs": [],
   "source": [
    "if protocol == 0:\n",
    "    tticks = np.round(np.array([1.0, 1.5, 3.5, 3.8]) - 1.0, 2)\n",
    "elif protocol == 1:\n",
    "    tticks = np.round(np.array([0.0, 1.5, 2.0, 3.0]) - 1.5, 2)\n",
    "elif protocol == 2:\n",
    "    tticks = np.round(np.array([4.5, 5., 6, 7.5]) - 4.5, 2)\n",
    "    \n",
    "tidx = [np.abs(times - t).argmin() for t in tticks]"
   ]
  },
  {
   "cell_type": "code",
   "execution_count": null,
   "id": "d925f87b-20b5-4a3d-9dc6-98ff1598a9f8",
   "metadata": {},
   "outputs": [],
   "source": [
    "def get_time_idx(times):\n",
    "    if protocol == 0:\n",
    "        tticks = np.round(np.array([1.0, 1.5, 3.5, 3.8]) - 1.0, 2)\n",
    "    elif protocol == 1:\n",
    "        tticks = np.round(np.array([0.0, 1.5, 2.0, 3.0]) - 1.5, 2)\n",
    "    elif protocol == 2:\n",
    "        tticks = np.round(np.array([4.5, 5., 6, 7.5]) - 4.5, 2)\n",
    "\n",
    "    tidx = [np.abs(times - t).argmin() for t in tticks]  \n",
    "    \n",
    "    return tidx, tticks"
   ]
  },
  {
   "cell_type": "markdown",
   "id": "f732e0fd-be44-4181-957e-7db40b249f43",
   "metadata": {},
   "source": [
    "##### Fixation"
   ]
  },
  {
   "cell_type": "code",
   "execution_count": null,
   "id": "e46f0fa4-b4b7-4aa9-b404-6030c876e522",
   "metadata": {},
   "outputs": [],
   "source": [
    "rates_avg_f = rates.sel(trials=0).mean(\"trials\")"
   ]
  },
  {
   "cell_type": "code",
   "execution_count": null,
   "id": "52312023-f708-4fd2-acf0-fa4298108d35",
   "metadata": {},
   "outputs": [],
   "source": [
    "plt.figure(figsize=(6, 8), dpi=300)\n",
    "\n",
    "plt.imshow(rates_avg_f.sel(gba=\"weak\"), aspect=\"auto\", origin=\"lower\", cmap=\"Greys\")\n",
    "plt.xticks(tidx, tticks)\n",
    "plt.yticks(range(rates_avg_f.sizes[\"roi\"]), rates_avg_f.roi.data)\n",
    "plt.title(\"Weak GBA\")\n",
    "plt.xlabel(\"Time [s]\")\n",
    "cbar = plt.colorbar()\n",
    "cbar.set_label(\"Firing Rate [Hz]\", rotation=270, labelpad=12)\n",
    "plt.savefig(\"figures/fr_fixation_weakGBA.eps\")"
   ]
  },
  {
   "cell_type": "code",
   "execution_count": null,
   "id": "414ef598-59a0-4fe8-b155-0bbf72b554d3",
   "metadata": {},
   "outputs": [],
   "source": [
    "plt.figure(figsize=(6, 8), dpi=300)\n",
    "\n",
    "plt.imshow(rates_avg_f.sel(gba=\"strong\"), aspect=\"auto\", origin=\"lower\", cmap=\"Greys\")\n",
    "plt.xticks(tidx, tticks)\n",
    "plt.yticks(range(rates_avg_f.sizes[\"roi\"]), rates_avg_f.roi.data)\n",
    "plt.title(\"strong GBA\")\n",
    "plt.xlabel(\"Time [s]\")\n",
    "cbar = plt.colorbar()\n",
    "cbar.set_label(\"Firing Rate [Hz]\", rotation=270, labelpad=12)\n",
    "plt.savefig(f\"figures/fr_fixation_strongGBA_p_{protocol}.eps\")"
   ]
  },
  {
   "cell_type": "markdown",
   "id": "97986bd8-945a-4abd-89fa-f3944cb75d93",
   "metadata": {},
   "source": [
    "Time-course (x-axis) of the avergae firing rate of each cortical area (y-axis) in the model, for **fixation** trials. "
   ]
  },
  {
   "cell_type": "markdown",
   "id": "22b65f8e-e4d2-4f7e-8658-39f7765ed610",
   "metadata": {},
   "source": [
    "##### Task"
   ]
  },
  {
   "cell_type": "code",
   "execution_count": null,
   "id": "c2693191-2b2f-42e1-9891-5759c724319c",
   "metadata": {},
   "outputs": [],
   "source": [
    "rates_avg_t = rates.sel(trials=1).mean(\"trials\")"
   ]
  },
  {
   "cell_type": "code",
   "execution_count": null,
   "id": "b37f8c91-7051-4341-8ad9-af447a402f18",
   "metadata": {
    "tags": []
   },
   "outputs": [],
   "source": [
    "plt.figure(figsize=(6, 8), dpi=300)\n",
    "\n",
    "plt.imshow(rates_avg_t.sel(gba=\"weak\"), aspect=\"auto\", origin=\"lower\", cmap=\"Greys\")\n",
    "plt.xticks(tidx, tticks)\n",
    "plt.yticks(range(rates_avg_f.sizes[\"roi\"]), rates_avg_f.roi.data)\n",
    "plt.title(\"Weak GBA\")\n",
    "plt.xlabel(\"Time [s]\")\n",
    "cbar = plt.colorbar()\n",
    "cbar.set_label(\"Firing Rate [Hz]\", rotation=270, labelpad=12)\n",
    "plt.savefig(f\"figures/fr_task_weakGBA_p_{protocol}.eps\")"
   ]
  },
  {
   "cell_type": "code",
   "execution_count": null,
   "id": "30f82245-b960-4ea6-9cd3-5c8a62161779",
   "metadata": {},
   "outputs": [],
   "source": [
    "plt.figure(figsize=(6, 8), dpi=300)\n",
    "\n",
    "plt.imshow(rates_avg_t.sel(gba=\"strong\"), aspect=\"auto\", origin=\"lower\", cmap=\"Greys\")\n",
    "plt.xticks(tidx, tticks)\n",
    "plt.yticks(range(rates_avg_f.sizes[\"roi\"]), rates_avg_f.roi.data)\n",
    "plt.title(\"strong GBA\")\n",
    "plt.xlabel(\"Time [s]\")\n",
    "cbar = plt.colorbar()\n",
    "cbar.set_label(\"Firing Rate [Hz]\", rotation=270, labelpad=12)\n",
    "plt.savefig(f\"figures/fr_task_strongGBA_p_{protocol}.eps\")"
   ]
  },
  {
   "cell_type": "markdown",
   "id": "7ad00e7b-557c-4116-ad80-d30469d54d79",
   "metadata": {},
   "source": [
    "Time-course (x-axis) of the avergae firing rate of each cortical area (y-axis) in the model, for **task** trials. "
   ]
  },
  {
   "cell_type": "markdown",
   "id": "054ff30b-4dfd-4877-a6f1-6ff327b497ef",
   "metadata": {},
   "source": [
    "#### Partial Information Decomposition"
   ]
  },
  {
   "cell_type": "code",
   "execution_count": null,
   "id": "44d73dbf-5e60-4960-b28b-0c868a49e280",
   "metadata": {},
   "outputs": [],
   "source": [
    "pairs = np.stack(([0] * 28, range(1, 29)), axis=1)"
   ]
  },
  {
   "cell_type": "code",
   "execution_count": null,
   "id": "659c01bd-d13a-45bf-b527-95c55bfba89f",
   "metadata": {},
   "outputs": [],
   "source": [
    "pid_weak = conn_pid(rates.sel(gba=\"weak\"), \"trials\", \"roi\", \"times\", \"cd\", pairs=pairs)"
   ]
  },
  {
   "cell_type": "code",
   "execution_count": null,
   "id": "2acd24eb-c9ae-495e-be5a-64b44395f5fe",
   "metadata": {},
   "outputs": [],
   "source": [
    "pid_strong = conn_pid(\n",
    "    rates.sel(gba=\"strong\"), \"trials\", \"roi\", \"times\", \"cd\", pairs=pairs\n",
    ")"
   ]
  },
  {
   "cell_type": "markdown",
   "id": "8ea0053d-8e96-4240-9611-f9239d51ca50",
   "metadata": {},
   "source": [
    "#### Mutual Information MI(RATE, STIMULUS PRESENCE)"
   ]
  },
  {
   "cell_type": "code",
   "execution_count": null,
   "id": "16042a6f-1f87-49b6-875d-8eac33231bf1",
   "metadata": {},
   "outputs": [],
   "source": [
    "plt.figure(figsize=(15, 8), dpi=300)\n",
    "plt.subplot(1, 2, 1)\n",
    "plt.imshow(pid_weak[0], aspect=\"auto\", cmap=\"Greys\", origin=\"lower\")\n",
    "plt.yticks(range(rates_avg_t.sizes[\"roi\"]), rates_avg_t.roi.data)\n",
    "plt.title(\"Weak GBA\")\n",
    "plt.xticks(tidx, tticks)\n",
    "plt.xlabel(\"Time [s]\")\n",
    "plt.colorbar()\n",
    "plt.subplot(1, 2, 2)\n",
    "plt.imshow(pid_strong[0], aspect=\"auto\", cmap=\"Greys\", origin=\"lower\")\n",
    "plt.yticks(range(rates_avg_t.sizes[\"roi\"]), rates_avg_t.roi.data)\n",
    "plt.title(\"Strong GBA\")\n",
    "plt.xticks(tidx, tticks)\n",
    "plt.xlabel(\"Time [s]\")\n",
    "plt.colorbar()"
   ]
  },
  {
   "cell_type": "markdown",
   "id": "75dd8430-e343-4668-9ba6-1135184614a0",
   "metadata": {},
   "source": [
    "Mutual information between firing rate and stimulus presence (fixation vs. task trials), for each cortical area (y-axis) and time (x-axis)."
   ]
  },
  {
   "cell_type": "markdown",
   "id": "15cb3437-0b15-46cf-a8e0-f5af93da7efb",
   "metadata": {},
   "source": [
    "#### Sinergy"
   ]
  },
  {
   "cell_type": "code",
   "execution_count": null,
   "id": "c580b1dc-ba07-44ea-b626-d4310616b923",
   "metadata": {},
   "outputs": [],
   "source": [
    "plt.figure(figsize=(6, 8), dpi=300)\n",
    "plt.imshow(pid_weak[4], aspect=\"auto\", cmap=\"Greys\", origin=\"lower\", vmin=0)\n",
    "plt.yticks(range(pid_weak[4].sizes[\"roi\"]), pid_weak[2].roi.data)\n",
    "plt.title(\"Weak GBA\")\n",
    "plt.xticks(tidx, tticks)\n",
    "plt.xlabel(\"Time [s]\")\n",
    "cbar = plt.colorbar()\n",
    "cbar.set_label(\"Synergy\", rotation=270, labelpad=12)\n",
    "plt.savefig(f\"figures/synergy_space_time_weak_p_{protocol}.eps\")"
   ]
  },
  {
   "cell_type": "code",
   "execution_count": null,
   "id": "ca877fde-b0df-456f-ac33-c7d8383d777b",
   "metadata": {},
   "outputs": [],
   "source": [
    "plt.figure(figsize=(6, 8), dpi=300)\n",
    "plt.imshow(pid_strong[4], aspect=\"auto\", cmap=\"Greys\", origin=\"lower\", vmin=0)\n",
    "plt.yticks(range(pid_weak[4].sizes[\"roi\"]), pid_weak[2].roi.data)\n",
    "plt.title(\"Strong GBA\")\n",
    "plt.xticks(tidx, tticks)\n",
    "plt.xlabel(\"Time [s]\")\n",
    "cbar = plt.colorbar()\n",
    "cbar.set_label(\"Synergy\", rotation=270, labelpad=12)\n",
    "plt.savefig(f\"figures/synergy_space_time_strong_p_{protocol}.eps\")"
   ]
  },
  {
   "cell_type": "markdown",
   "id": "00fe70c8-8f87-49dd-8914-c9033c9ea647",
   "metadata": {},
   "source": [
    "Same as the plot above, however without thaking the average over areas (y-axis)."
   ]
  },
  {
   "cell_type": "code",
   "execution_count": null,
   "id": "c3464814-fcbc-46a9-981d-611aa0d57936",
   "metadata": {},
   "outputs": [],
   "source": [
    "plt.figure(figsize=(6, 6), dpi=300)\n",
    "\n",
    "syn_w = pid_weak[-1].mean(\"times\")\n",
    "syn_s = pid_strong[-1].mean(\"times\")\n",
    "\n",
    "# Compute pie slices\n",
    "N = 28\n",
    "theta = np.linspace(0, 2 * np.pi, N, endpoint=False)\n",
    "width = 0.25\n",
    "\n",
    "plt.subplot(polar=True)\n",
    "\n",
    "lines, labels = plt.thetagrids(theta * 360 / (2 * np.pi), (rois[1:]))\n",
    "\n",
    "\n",
    "# Plot actual sales graph\n",
    "plt.plot(theta, syn_w, \"r\")\n",
    "plt.fill(theta, syn_w, \"r\", alpha=0.1)\n",
    "plt.plot(theta, syn_s, \"b\")\n",
    "plt.fill(theta, syn_s, \"b\", alpha=0.1)\n",
    "\n",
    "plt.savefig(f\"figures/synergy_time_averaged_p_{protocol}.svg\")"
   ]
  },
  {
   "cell_type": "markdown",
   "id": "d468fd73-14e2-4102-a96a-1d8b30c79d6c",
   "metadata": {},
   "source": [
    "Total synergy (in this case averge over time), distribution for each cortical area for weak (red) and strong (blue) GBA."
   ]
  },
  {
   "cell_type": "markdown",
   "id": "f954b5ac-862f-4374-b604-470dc441742c",
   "metadata": {},
   "source": [
    "#### Active information storage"
   ]
  },
  {
   "cell_type": "code",
   "execution_count": null,
   "id": "25b26b48-9099-4344-84fb-1b71cba0ad75",
   "metadata": {},
   "outputs": [],
   "source": [
    "from frites.core import gcmi_nd_cc"
   ]
  },
  {
   "cell_type": "code",
   "execution_count": null,
   "id": "b6287880-6d4e-48ea-95c6-2ae4619e1e00",
   "metadata": {},
   "outputs": [],
   "source": [
    "rois = rates.roi.data"
   ]
  },
  {
   "cell_type": "code",
   "execution_count": null,
   "id": "bda8f4f0-2750-40f8-b43b-89e01484509d",
   "metadata": {},
   "outputs": [],
   "source": [
    "AISw = []\n",
    "\n",
    "for roi in tqdm(rois):\n",
    "    AISw += [\n",
    "        gcmi_nd_cc(\n",
    "            rates.sel(gba=\"weak\", roi=roi)[..., :-40].data,\n",
    "            rates.sel(gba=\"weak\", roi=roi)[..., 40:].data,\n",
    "            traxis=0,\n",
    "            mvaxis=None,\n",
    "        )\n",
    "    ]\n",
    "\n",
    "AISw = xr.DataArray(AISw, dims=(\"roi\", \"times\"), coords=(rois, rates.times[:-40]))"
   ]
  },
  {
   "cell_type": "code",
   "execution_count": null,
   "id": "d9b73506-5417-4084-9098-ad5062445648",
   "metadata": {},
   "outputs": [],
   "source": [
    "AISs = []\n",
    "\n",
    "for roi in tqdm(rois):\n",
    "    AISs += [\n",
    "        gcmi_nd_cc(\n",
    "            rates.sel(gba=\"strong\", roi=roi)[..., :-40].data,\n",
    "            rates.sel(gba=\"strong\", roi=roi)[..., 40:].data,\n",
    "            traxis=0,\n",
    "            mvaxis=None,\n",
    "        )\n",
    "    ]\n",
    "\n",
    "AISs = xr.DataArray(AISs, dims=(\"roi\", \"times\"), coords=(rois, rates.times[:-40]))"
   ]
  },
  {
   "cell_type": "code",
   "execution_count": null,
   "id": "d1937307-a38e-485a-8f24-f53319221da3",
   "metadata": {},
   "outputs": [],
   "source": [
    "AIS = xr.concat([AISw, AISs], \"gba\")"
   ]
  },
  {
   "cell_type": "code",
   "execution_count": null,
   "id": "c53a3424-b141-4798-a07e-37f8b8ef3f52",
   "metadata": {},
   "outputs": [],
   "source": [
    "plt.figure(figsize=(6, 6), dpi=300)\n",
    "\n",
    "plt.imshow(AIS.isel(gba=0), aspect=\"auto\", cmap=\"Greys\", origin=\"lower\")\n",
    "plt.title(\"Weak GBA\")\n",
    "plt.xlabel(\"Time [a.u]\")\n",
    "cbar = plt.colorbar()\n",
    "cbar.set_label(\"AIS\", rotation=270, labelpad=12)\n",
    "plt.savefig(\"figures/AIS_space_time_weak.eps\")"
   ]
  },
  {
   "cell_type": "code",
   "execution_count": null,
   "id": "b65e0772-5b83-44db-b4ae-e2b9021355bc",
   "metadata": {},
   "outputs": [],
   "source": [
    "plt.figure(figsize=(6, 6), dpi=300)\n",
    "\n",
    "plt.imshow(AIS.isel(gba=1), aspect=\"auto\", cmap=\"Greys\", origin=\"lower\")\n",
    "plt.title(\"Strong GBA\")\n",
    "plt.xlabel(\"Time [a.u]\")\n",
    "cbar = plt.colorbar()\n",
    "cbar.set_label(\"AIS\", rotation=270, labelpad=12)\n",
    "plt.savefig(f\"figures/AIS_space_time_strong_p_{protocol}.eps\")"
   ]
  },
  {
   "cell_type": "markdown",
   "id": "234e6a99-2a24-4cd8-bfb6-627fe134fc6c",
   "metadata": {},
   "source": [
    "Active information storage time-course (x-axis) for each cortical area (y-axis) in the model. For the weak (left) and strong GBA (right) states."
   ]
  },
  {
   "cell_type": "code",
   "execution_count": null,
   "id": "9cf08cba-38e2-4104-83e5-8a5013a00176",
   "metadata": {},
   "outputs": [],
   "source": [
    "ais = AIS.mean(\"times\")"
   ]
  },
  {
   "cell_type": "code",
   "execution_count": null,
   "id": "bbed0798-9591-4f91-ab45-e88a4d9301ac",
   "metadata": {},
   "outputs": [],
   "source": [
    "plt.figure(figsize=(6, 6), dpi=300)\n",
    "\n",
    "\n",
    "# Compute pie slices\n",
    "N = 29\n",
    "theta = np.linspace(0, 2 * np.pi, N, endpoint=False)\n",
    "width = 0.25\n",
    "\n",
    "plt.subplot(polar=True)\n",
    "\n",
    "lines, labels = plt.thetagrids(theta * 360 / (2 * np.pi), (rois))\n",
    "\n",
    "\n",
    "# Plot actual sales graph\n",
    "plt.plot(theta, ais.sel(gba=0), \"r\")\n",
    "plt.fill(theta, ais.sel(gba=0), \"r\", alpha=0.1)\n",
    "plt.plot(theta, ais.sel(gba=1), \"b\")\n",
    "plt.fill(theta, ais.sel(gba=1), \"b\", alpha=0.1)\n",
    "\n",
    "plt.savefig(f\"figures/AIS_time_averaged_p_{protocol}.svg\")"
   ]
  },
  {
   "cell_type": "markdown",
   "id": "55e8fbd5-da0b-4e7c-b78b-3d101b9a04d7",
   "metadata": {},
   "source": [
    "Total active information storage (in this case averge over time), distribution for each cortical area for weak (red) and strong (blue) GBA."
   ]
  },
  {
   "cell_type": "markdown",
   "id": "8020f7b4-69b2-4b36-ac8f-24b8d9b0806f",
   "metadata": {},
   "source": [
    "#### Transfer entropy"
   ]
  },
  {
   "cell_type": "code",
   "execution_count": null,
   "id": "06f05ed8-b479-4a91-bdf1-d24a84ae1496",
   "metadata": {},
   "outputs": [],
   "source": [
    "TEfb_w = conn_te(\n",
    "    rates.sel(gba=\"weak\"), \"times\", \"roi\", max_delay=40, n_jobs=30, pairs=pairs[:, ::-1]\n",
    ")\n",
    "TEff_w = conn_te(\n",
    "    rates.sel(gba=\"weak\"), \"times\", \"roi\", max_delay=40, n_jobs=30, pairs=pairs\n",
    ")"
   ]
  },
  {
   "cell_type": "code",
   "execution_count": null,
   "id": "cebdddd5-3a24-47c7-9ab1-fbce296726de",
   "metadata": {},
   "outputs": [],
   "source": [
    "TEfb_s = conn_te(\n",
    "    rates.sel(gba=\"strong\"),\n",
    "    \"times\",\n",
    "    \"roi\",\n",
    "    max_delay=40,\n",
    "    n_jobs=30,\n",
    "    pairs=pairs[:, ::-1],\n",
    ")\n",
    "TEff_s = conn_te(\n",
    "    rates.sel(gba=\"strong\"), \"times\", \"roi\", max_delay=40, n_jobs=30, pairs=pairs\n",
    ")"
   ]
  },
  {
   "cell_type": "code",
   "execution_count": null,
   "id": "cb648bff-7e41-49e0-b59e-ed3c10e26838",
   "metadata": {},
   "outputs": [],
   "source": [
    "plt.figure(figsize=(6, 8), dpi=300)\n",
    "plt.imshow(TEff_w, aspect=\"auto\", cmap=\"Greys\", origin=\"lower\", vmin=0)\n",
    "plt.yticks(range(TEff_w.sizes[\"roi\"]), TEff_w.roi.data)\n",
    "plt.title(\"Weak GBA\")\n",
    "plt.xticks(tidx, tticks)\n",
    "plt.xlabel(\"Time [s]\")\n",
    "cbar = plt.colorbar()\n",
    "cbar.set_label(\"FF Transfer Entropy [bits]\", rotation=270, labelpad=12)\n",
    "plt.savefig(f\"figures/TE_feedforward_weakGBA_p_{protocol}.svg\")"
   ]
  },
  {
   "cell_type": "code",
   "execution_count": null,
   "id": "45d4e7af-4c4a-4550-80bb-ee995367b0b7",
   "metadata": {},
   "outputs": [],
   "source": [
    "plt.figure(figsize=(6, 8), dpi=300)\n",
    "plt.imshow(TEfb_w, aspect=\"auto\", cmap=\"Greys\", origin=\"lower\", vmin=0)\n",
    "plt.yticks(range(TEfb_w.sizes[\"roi\"]), TEfb_w.roi.data)\n",
    "plt.title(\"Weak GBA\")\n",
    "plt.xticks(tidx, tticks)\n",
    "plt.xlabel(\"Time [s]\")\n",
    "cbar = plt.colorbar()\n",
    "cbar.set_label(\"FB Transfer Entropy [bits]\", rotation=270, labelpad=12)\n",
    "plt.savefig(f\"figures/TE_feedback_weakGBA_p_{protocol}.svg\")"
   ]
  },
  {
   "cell_type": "code",
   "execution_count": null,
   "id": "85838fed-a538-4d13-8c01-2abbb2bf4938",
   "metadata": {},
   "outputs": [],
   "source": [
    "plt.figure(figsize=(6, 8), dpi=300)\n",
    "plt.imshow(TEff_s, aspect=\"auto\", cmap=\"Greys\", origin=\"lower\", vmin=0, vmax=0.3)\n",
    "plt.yticks(range(TEff_s.sizes[\"roi\"]), TEff_s.roi.data)\n",
    "plt.title(\"Strong GBA\")\n",
    "plt.xticks(tidx, tticks)\n",
    "plt.xlabel(\"Time [s]\")\n",
    "cbar = plt.colorbar()\n",
    "cbar.set_label(\"FF Transfer Entropy [bits]\", rotation=270, labelpad=12)\n",
    "plt.savefig(f\"figures/TE_feedforward_strongGBA_p_{protocol}.svg\")"
   ]
  },
  {
   "cell_type": "code",
   "execution_count": null,
   "id": "b9b99bb6-fbfa-4a9f-a635-a79f766e11a1",
   "metadata": {},
   "outputs": [],
   "source": [
    "plt.figure(figsize=(6, 8), dpi=300)\n",
    "plt.imshow(TEfb_s, aspect=\"auto\", cmap=\"Greys\", origin=\"lower\", vmin=0, vmax=0.3)\n",
    "plt.yticks(range(TEfb_s.sizes[\"roi\"]), TEfb_s.roi.data)\n",
    "plt.title(\"Strong GBA\")\n",
    "plt.xticks(tidx, tticks)\n",
    "plt.xlabel(\"Time [s]\")\n",
    "cbar = plt.colorbar()\n",
    "cbar.set_label(\"FB Transfer Entropy [bits]\", rotation=270, labelpad=12)\n",
    "plt.savefig(f\"figures/TE_feedback_strongGBA_p_{protocol}.svg\")"
   ]
  },
  {
   "cell_type": "code",
   "execution_count": null,
   "id": "8a9d5ae7-d2c7-4f55-99cf-27802f252739",
   "metadata": {},
   "outputs": [],
   "source": [
    "TEff_w_avg = TEff_w.mean(\"times\")\n",
    "TEff_s_avg = TEff_s.mean(\"times\")"
   ]
  },
  {
   "cell_type": "code",
   "execution_count": null,
   "id": "8e090f52-d3be-4af7-832a-930be69c3be0",
   "metadata": {},
   "outputs": [],
   "source": [
    "plt.figure(figsize=(6, 6), dpi=300)\n",
    "\n",
    "\n",
    "# Compute pie slices\n",
    "N = 28\n",
    "theta = np.linspace(0, 2 * np.pi, N, endpoint=False)\n",
    "width = 0.25\n",
    "\n",
    "plt.subplot(polar=True)\n",
    "\n",
    "rois = rates.roi.data[1:]\n",
    "\n",
    "lines, labels = plt.thetagrids(theta * 360 / (2 * np.pi), (rois))\n",
    "\n",
    "\n",
    "# Plot actual sales graph\n",
    "plt.plot(theta, TEff_w_avg, \"r\")\n",
    "plt.fill(theta, TEff_w_avg, \"r\", alpha=0.1)\n",
    "plt.plot(theta, TEff_s_avg, \"b\")\n",
    "plt.fill(theta, TEff_s_avg, \"b\", alpha=0.1)\n",
    "\n",
    "plt.title(\"FF\")\n",
    "\n",
    "plt.tight_layout()\n",
    "\n",
    "plt.savefig(f\"figures/TE_feedforward_time_averaged_p_{protocol}.svg\")"
   ]
  },
  {
   "cell_type": "code",
   "execution_count": null,
   "id": "89cc8175-cae5-41db-a150-c2ae17e9c980",
   "metadata": {},
   "outputs": [],
   "source": [
    "TEfb_w_avg = TEfb_w.mean(\"times\")\n",
    "TEfb_s_avg = TEfb_s.mean(\"times\")"
   ]
  },
  {
   "cell_type": "code",
   "execution_count": null,
   "id": "e266af58-53a8-4e32-8808-997a4c807a02",
   "metadata": {},
   "outputs": [],
   "source": [
    "rV1 = rates_avg_t.sel(gba=\"strong\", roi=\"V1\")\n",
    "r24c = 4 * rates_avg_t.sel(gba=\"strong\", roi=\"46d\")\n",
    "syn = 350 * pid_strong[4].sel(roi=\"46d-V1\")"
   ]
  },
  {
   "cell_type": "code",
   "execution_count": null,
   "id": "c8ea5cb9-4884-4125-851f-af565a46ea88",
   "metadata": {},
   "outputs": [],
   "source": [
    "fig, ax = plt.subplots()\n",
    "rV1.plot(ax=ax)\n",
    "r24c.plot(ax=ax)\n",
    "plt.title(\"\")\n",
    "syn.plot(ax=ax, c=\"g\")\n",
    "ax.legend([\"rate V1\", \"4 * rate 46d\", \"350 * syn\"])\n",
    "\n",
    "plt.title(\"\")"
   ]
  },
  {
   "cell_type": "code",
   "execution_count": null,
   "id": "e98c7ba5-b28f-466e-8583-ad23e4c797b0",
   "metadata": {},
   "outputs": [],
   "source": [
    "tau1 = rates_avg_t[..., 100:].sel(gba=\"strong\").argmax(\"times\")"
   ]
  },
  {
   "cell_type": "code",
   "execution_count": null,
   "id": "4cd612f3-13a0-4946-92cd-fff51c6701dc",
   "metadata": {},
   "outputs": [],
   "source": [
    "tau3 = rates_avg_t[..., 100:].sel(gba=\"strong\", roi=[\"V1\"]).argmax(\"times\")"
   ]
  },
  {
   "cell_type": "code",
   "execution_count": null,
   "id": "d64550f9-17c9-4636-b251-fce3706d1faa",
   "metadata": {},
   "outputs": [],
   "source": [
    "tau2 = pid_strong[4][..., 100:].argmax(\"times\")"
   ]
  },
  {
   "cell_type": "code",
   "execution_count": null,
   "id": "c0562070-3790-44f1-9c9e-869a53d2e1fb",
   "metadata": {},
   "outputs": [],
   "source": [
    "plt.step(x=range(28), y=np.abs(tau1[1:].data - tau2.data) * 0.1)\n",
    "plt.step(x=range(28), y=np.abs(tau3.data - tau2.data) * 0.1)\n",
    "plt.xticks(range(28), rois, rotation=90)\n",
    "plt.legend([\"V1 peak - syn peak\", \"rate peak of other areas (xaxis) - syn peak\"])"
   ]
  },
  {
   "cell_type": "code",
   "execution_count": null,
   "id": "afd9783e-028b-40bb-8239-b39a79945ddf",
   "metadata": {},
   "outputs": [],
   "source": [
    "import os\n",
    "\n",
    "import seaborn as sns\n",
    "from scipy.io import loadmat"
   ]
  },
  {
   "cell_type": "code",
   "execution_count": null,
   "id": "ad795125-0b03-4df7-9ca8-c730698e595e",
   "metadata": {},
   "outputs": [],
   "source": [
    "path = f\"/home/vinicius/storage1/projects/IPP_WANG/src/interareal/\""
   ]
  },
  {
   "cell_type": "code",
   "execution_count": null,
   "id": "91ede923-1e19-4a16-b51e-9b8474102d1a",
   "metadata": {},
   "outputs": [],
   "source": [
    "data = np.load(os.path.join(path, \"markov2014.npy\"), allow_pickle=True).all()"
   ]
  },
  {
   "cell_type": "code",
   "execution_count": null,
   "id": "eec00648-89d8-4d9b-8e8b-0af2a1352ff6",
   "metadata": {},
   "outputs": [],
   "source": [
    "FLN, Distances, Hierarchy = data[\"FLN\"], data[\"Distances\"], data[\"Hierarchy\"]"
   ]
  },
  {
   "cell_type": "code",
   "execution_count": null,
   "id": "30fdff2d-5d3a-4754-b87e-202ac6e6e909",
   "metadata": {},
   "outputs": [],
   "source": [
    "x = Distances[0, 1:]\n",
    "y = np.abs(tau1[1:].data - tau2.data) * 0.1\n",
    "x = x[rois != \"2\"]\n",
    "y = y[rois != \"2\"]\n",
    "sns.regplot(x=x, y=y, n_boot=100, ci=None)\n",
    "for i, r in enumerate(rois[rois != \"2\"]):\n",
    "    plt.text(x[i], y[i], r)\n",
    "\n",
    "plt.ylabel(\"Rate - Syn. peak time\")\n",
    "plt.xlabel(\" D(V1, AREA) [mm]\")"
   ]
  },
  {
   "cell_type": "markdown",
   "id": "aa15be8f-50bb-443d-a72d-4bb677e7fef7",
   "metadata": {},
   "source": [
    "#### Stimulus specific storage"
   ]
  },
  {
   "cell_type": "code",
   "execution_count": null,
   "id": "12182f98-4721-4df3-84c7-717a6138961d",
   "metadata": {},
   "outputs": [],
   "source": [
    "from frites.core import gccmi_nd_ccnd\n",
    "from frites.core import gcmi_nd_cc \n",
    "\n",
    "def fix_frites(func):  # noqa\n",
    "    def _fix(*args, **kwargs):\n",
    "        try:\n",
    "            return func(*args, **kwargs)\n",
    "        except:\n",
    "            return 0\n",
    "    return _fix\n",
    "\n",
    "gccmi_nd_ccnd = fix_frites(gccmi_nd_ccnd)\n",
    "gcmi_nd_cc = fix_frites(gcmi_nd_cc)\n",
    "\n",
    "\n",
    "def stimulus_specific_storage(roi=None, tau=1, gba=\"weak\"):\n",
    "    R = rates.sel(gba=gba, roi=roi)\n",
    "    pos = R.trials.data\n",
    "    AIS = gcmi_nd_cc(R[..., tau:].data, R[..., :-tau].data, mvaxis=None, traxis=0)\n",
    "    AISc = gccmi_nd_ccnd(R[..., tau:].data, R[..., :-tau].data, pos, mvaxis=None, traxis=0)\n",
    "    \n",
    "    return AIS - AISc    \n",
    "\n",
    "SSSw = [stimulus_specific_storage(roi=r, tau=40, gba=\"weak\") for r in tqdm(rates.roi.data)]\n",
    "\n",
    "SSSs = [stimulus_specific_storage(roi=r, tau=40, gba=\"strong\") for r in tqdm(rates.roi.data)]\n",
    "\n",
    "\n",
    "SSSw = np.stack(SSSw)\n",
    "SSSs = np.stack(SSSs)\n",
    "\n",
    "times = rates.times.data[:-40]\n",
    "times = (times - 4500) / 1000\n",
    "\n",
    "SSSw = xr.DataArray(SSSw, dims=(\"roi\", \"times\"), coords=(rates.roi.data, times))\n",
    "SSSs = xr.DataArray(SSSs, dims=(\"roi\", \"times\"), coords=(rates.roi.data, times))"
   ]
  },
  {
   "cell_type": "markdown",
   "id": "a4093e87-e616-4116-9f7e-4fc3e0839dfb",
   "metadata": {},
   "source": [
    "### Paper figure"
   ]
  },
  {
   "cell_type": "code",
   "execution_count": null,
   "id": "09252a49-7adf-4173-ae7e-bb8ff96e72e0",
   "metadata": {},
   "outputs": [],
   "source": [
    "path = f\"/home/vinicius/storage1/projects/IPP_WANG/src/interareal/\"\n",
    "\n",
    "area_names = [\n",
    "    \"V1\",\n",
    "    \"V2\",\n",
    "    \"V4\",\n",
    "    \"DP\",\n",
    "    \"MT\",\n",
    "    \"8m\",\n",
    "    \"5\",\n",
    "    \"8l\",\n",
    "    \"TEO\",\n",
    "    \"2\",\n",
    "    \"F1\",\n",
    "    \"STPc\",\n",
    "    \"7A\",\n",
    "    \"46d\",\n",
    "    \"10\",\n",
    "    \"9/46v\",\n",
    "    \"9/46d\",\n",
    "    \"F5\",\n",
    "    \"TEpd\",\n",
    "    \"PBr\",\n",
    "    \"7m\",\n",
    "    \"7B\",\n",
    "    \"F2\",\n",
    "    \"STPi\",\n",
    "    \"PROm\",\n",
    "    \"F7\",\n",
    "    \"8B\",\n",
    "    \"STPr\",\n",
    "    \"24c\",\n",
    "]\n",
    "nareas = len(area_names)\n",
    "iter_ = range(nareas)\n",
    "\n",
    "data = np.load(os.path.join(path, \"markov2014.npy\"), allow_pickle=True).all()\n",
    "\n",
    "FLN, Distances, Hierarchy = data[\"FLN\"], data[\"Distances\"], data[\"Hierarchy\"]"
   ]
  },
  {
   "cell_type": "code",
   "execution_count": null,
   "id": "5105ea7a-177f-49b0-9c21-8a748018c0a8",
   "metadata": {},
   "outputs": [],
   "source": [
    "import matplotlib\n",
    "\n",
    "import src.plot_utils as plot"
   ]
  },
  {
   "cell_type": "code",
   "execution_count": null,
   "id": "44f492c2-fb62-41df-a589-5f2e83a4d91f",
   "metadata": {},
   "outputs": [],
   "source": [
    "sel_rois = np.array([\"V1\", \"V4\", \"8m\", \"8l\", \"TEO\", \"7A\", \"9/46d\", \"TEpd\", \"24c\"])\n",
    "sel_rois_syn = np.array(\n",
    "    [f\"V1-{r}\" if r in [\"V2\", \"V4\"] else f\"{r}-V1\" for r in sel_rois[1:]]\n",
    ")\n",
    "sel_rois_teff = np.array([f\"V1->{r}\" for r in sel_rois[1:]])\n",
    "sel_rois_tefb = np.array([f\"{r}->V1\" for r in sel_rois[1:]])"
   ]
  },
  {
   "cell_type": "code",
   "execution_count": null,
   "id": "ae9b74dc-ff26-4a02-9ea1-5a258590ae8e",
   "metadata": {},
   "outputs": [],
   "source": [
    "fig = plt.figure(figsize=(8, 10), dpi=600)\n",
    "\n",
    "\n",
    "gs0 = fig.add_gridspec(\n",
    "    nrows=1,\n",
    "    ncols=2,\n",
    "    left=0.06,\n",
    "    right=0.55,\n",
    "    wspace=0.15,\n",
    "    bottom=0.79,\n",
    "    top=0.94,\n",
    ")\n",
    "\n",
    "gs1 = fig.add_gridspec(\n",
    "    nrows=1,\n",
    "    ncols=2,\n",
    "    left=0.62,\n",
    "    right=0.91,\n",
    "    bottom=0.90,\n",
    "    top=0.97,\n",
    ")\n",
    "\n",
    "gs2 = fig.add_gridspec(\n",
    "    nrows=1,\n",
    "    ncols=3,\n",
    "    left=0.62,\n",
    "    right=0.93,\n",
    "    wspace=0.2,\n",
    "    bottom=0.76,\n",
    "    top=0.88,\n",
    "    width_ratios=[1, 1, 0.05],\n",
    ")\n",
    "\n",
    "gs3 = fig.add_gridspec(\n",
    "    nrows=1,\n",
    "    ncols=8,\n",
    "    left=0.06,\n",
    "    right=0.95,\n",
    "    wspace=0.5,\n",
    "    bottom=0.58,\n",
    "    top=0.7,\n",
    "    width_ratios=[1, 0.05] * 4,\n",
    ")\n",
    "\n",
    "gs4 = fig.add_gridspec(\n",
    "    nrows=1,\n",
    "    ncols=4,\n",
    "    left=0.06,\n",
    "    right=0.95,\n",
    "    bottom=0.3,\n",
    "    top=0.55,\n",
    "    hspace=0.5,\n",
    "    wspace=0.5,\n",
    ")\n",
    "\n",
    "gs5 = fig.add_gridspec(\n",
    "    nrows=1,\n",
    "    ncols=2,\n",
    "    left=0.35,\n",
    "    right=0.95,\n",
    "    bottom=0.05,\n",
    "    top=0.28,\n",
    "    wspace=0.3,\n",
    ")\n",
    "\n",
    "gs6 = fig.add_gridspec(\n",
    "    nrows=1,\n",
    "    ncols=1,\n",
    "    left=0.05,\n",
    "    right=0.3,\n",
    "    bottom=0.05,\n",
    "    top=0.26,\n",
    "    wspace=0.3,\n",
    ")\n",
    "\n",
    "axs0 = [plt.subplot(gs0[i]) for i in range(2)]\n",
    "axs1 = [plt.subplot(gs1[i]) for i in range(2)]\n",
    "axs2 = [plt.subplot(gs2[i]) for i in range(3)]\n",
    "axs3 = [plt.subplot(gs3[i]) for i in range(8)]\n",
    "axs4 = [plt.subplot(gs4[i], polar=True) for i in range(4)]\n",
    "axs5 = [plt.subplot(gs5[i]) for i in range(2)]\n",
    "axs6 = [plt.subplot(gs6[i]) for i in range(1)]\n",
    "\n",
    "################################### FLN ########################################\n",
    "plt.sca(axs0[0])\n",
    "\n",
    "logFLN = np.log(FLN)\n",
    "masked_array = np.ma.array(logFLN, mask=np.isnan(logFLN))\n",
    "cmap = matplotlib.cm.get_cmap(\"hot_r\")\n",
    "cmap.set_bad(\"black\")\n",
    "plt.imshow(logFLN, aspect=\"auto\", cmap=cmap)\n",
    "cbar = plt.colorbar()\n",
    "cbar.set_label(\"\", rotation=270)\n",
    "plt.title(\"log(FLN)\", fontsize=6)\n",
    "plt.xticks(iter_, area_names, rotation=90, fontsize=4)\n",
    "plt.yticks(iter_, area_names, fontsize=4)\n",
    "plt.xlabel(\"From\", fontsize=6)\n",
    "plt.ylabel(\"To\", fontsize=6)\n",
    "cbar.ax.tick_params(labelsize=6)\n",
    "\n",
    "\n",
    "################################### DISTANCE ########################################\n",
    "plt.sca(axs0[1])\n",
    "masked_array = np.ma.array(Distances, mask=np.isnan(Distances))\n",
    "cmap = matplotlib.cm.get_cmap(\"copper\")\n",
    "cmap.set_bad(\"black\")\n",
    "plt.imshow(Distances, aspect=\"auto\", cmap=cmap, vmin=0, vmax=50)\n",
    "cbar = plt.colorbar()\n",
    "cbar.set_label(\"\", rotation=270, labelpad=10)\n",
    "plt.xticks(iter_, area_names, rotation=90, fontsize=4)\n",
    "plt.setp(axs0[1].get_yticklabels(), visible=False)\n",
    "plt.yticks(iter_, area_names, fontsize=4)\n",
    "axs0[1].yaxis.set_label([])\n",
    "plt.xlabel(\"From\", fontsize=6)\n",
    "plt.title(\"Distances [mm]\", fontsize=6)\n",
    "cbar.ax.tick_params(labelsize=6)\n",
    "\n",
    "\n",
    "################################### MODEL ########################################\n",
    "\n",
    "def plot_png(ax, figname):\n",
    "    png = plt.imread(figname)\n",
    "    plt.sca(ax)\n",
    "    im = plt.imshow(png, interpolation=\"none\")\n",
    "    plt.axis(\"off\")\n",
    "    pad = 0\n",
    "    plt.xlim(-pad, png.shape[1] + pad)\n",
    "    plt.ylim(png.shape[0] + pad, -pad)\n",
    "\n",
    "\n",
    "for i in range(2):\n",
    "    plot_png(axs1[i], f\"figures/circuit{i + 1}.png\")\n",
    "    if i == 1:\n",
    "        plt.title(\"Strong GBA\", fontsize=6)\n",
    "    else:\n",
    "        plt.title(\"Weak GBA\", fontsize=6)\n",
    "\n",
    "################################### Firing rates ########################################\n",
    "plt.sca(axs2[0])\n",
    "\n",
    "plt.imshow(\n",
    "    rates_avg_t.sel(gba=\"weak\").sel(roi=sel_rois),\n",
    "    aspect=\"auto\",\n",
    "    origin=\"lower\",\n",
    "    cmap=\"Greys\",\n",
    "    vmin=10,\n",
    "    vmax=40,\n",
    ")\n",
    "plt.xticks(tidx, tticks, fontsize=6)\n",
    "plt.yticks(range(rates_avg_f.sel(roi=sel_rois).sizes[\"roi\"]), sel_rois, fontsize=6)\n",
    "plt.xlabel(\"Time [s]\", fontsize=6)\n",
    "\n",
    "times = rates_avg_t.times.data\n",
    "stim = np.zeros_like(times)\n",
    "stim[np.logical_and(times >= 4500, times <= 5000)] = 1\n",
    "plt.plot(stim * 2, \"r\")\n",
    "plt.text(250, 2, \"42 pA\", fontsize=5)\n",
    "\n",
    "plt.sca(axs2[1])\n",
    "\n",
    "plt.imshow(\n",
    "    rates_avg_t.sel(gba=\"strong\").sel(roi=sel_rois),\n",
    "    aspect=\"auto\",\n",
    "    origin=\"lower\",\n",
    "    cmap=\"Greys\",\n",
    "    vmin=10,\n",
    "    vmax=40,\n",
    ")\n",
    "plt.xticks(tidx, tticks, fontsize=6)\n",
    "plt.yticks(range(rates_avg_f.sel(roi=sel_rois).sizes[\"roi\"]), sel_rois)\n",
    "plt.xlabel(\"Time [s]\", fontsize=6)\n",
    "plt.setp(axs2[1].get_yticklabels(), visible=False)\n",
    "plt.plot(stim, \"r\")\n",
    "plt.text(250, 1, \"22 pA\", fontsize=5)\n",
    "\n",
    "\n",
    "norm = matplotlib.colors.Normalize(vmin=10, vmax=40)\n",
    "cmap = matplotlib.cm.get_cmap(\"Greys\")\n",
    "\n",
    "cbar = plt.colorbar(\n",
    "    mappable=plt.cm.ScalarMappable(cmap=cmap, norm=norm),\n",
    "    cax=axs2[2],\n",
    ")\n",
    "\n",
    "cbar.ax.set_ylabel(\"Firing rate [Hz]\", fontsize=6, rotation=270, labelpad=14)\n",
    "cbar.ax.tick_params(labelsize=6)\n",
    "\n",
    "\n",
    "############################################ AIS #############################################\"\n",
    "plt.sca(axs3[0])\n",
    "plt.imshow(\n",
    "    AIS.isel(gba=1).sel(roi=sel_rois), aspect=\"auto\", cmap=\"Greys\", origin=\"lower\",\n",
    "    vmin=0, vmax=1.\n",
    ")\n",
    "plt.title(\"AIS\", fontsize=6)\n",
    "plt.xlabel(\"Time [s]\", fontsize=6)\n",
    "plt.xticks(tidx, tticks, fontsize=6)\n",
    "plt.yticks(range(len(sel_rois)), sel_rois, fontsize=6)\n",
    "#plt.setp(axs3[0].get_xticklabels(), visible=False)\n",
    "\n",
    "\n",
    "norm = matplotlib.colors.Normalize(vmin=0, vmax=1.)\n",
    "cmap = matplotlib.cm.get_cmap(\"Greys\")\n",
    "\n",
    "cbar = plt.colorbar(\n",
    "    mappable=plt.cm.ScalarMappable(cmap=cmap, norm=norm),\n",
    "    cax=axs3[1],\n",
    ")\n",
    "cbar.ax.tick_params(labelsize=6)\n",
    "cbar.ax.set_ylabel(\"\", fontsize=6, rotation=270, labelpad=14)\n",
    "\n",
    "############################################ TEff #############################################\"\n",
    "plt.sca(axs3[2])\n",
    "plt.imshow(\n",
    "    TEff_s.sel(roi=sel_rois_teff),\n",
    "    aspect=\"auto\",\n",
    "    cmap=\"Greys\",\n",
    "    origin=\"lower\",\n",
    "    vmin=0,\n",
    "    vmax=0.3,\n",
    ")\n",
    "# plt.yticks(range(TEff_s.sizes[\"roi\"]), TEff_s.roi.data)\n",
    "plt.title(\"TE from V1\", fontsize=6)\n",
    "plt.xticks(tidx, tticks, fontsize=6)\n",
    "plt.xlabel(\"Time [s]\", fontsize=6)\n",
    "plt.yticks(range(len(sel_rois) - 1), sel_rois[1:], fontsize=6)\n",
    "#plt.setp(axs3[2].get_xticklabels(), visible=False)\n",
    "\n",
    "\n",
    "norm = matplotlib.colors.Normalize(vmin=0, vmax=0.3)\n",
    "cmap = matplotlib.cm.get_cmap(\"Greys\")\n",
    "\n",
    "cbar = plt.colorbar(\n",
    "    mappable=plt.cm.ScalarMappable(cmap=cmap, norm=norm),\n",
    "    cax=axs3[3],\n",
    ")\n",
    "cbar.ax.tick_params(labelsize=6)\n",
    "cbar.ax.set_ylabel(\"\", fontsize=6, rotation=270, labelpad=14)\n",
    "\n",
    "############################################ TEfb #############################################\"\n",
    "plt.sca(axs3[4])\n",
    "plt.imshow(\n",
    "    TEfb_s.sel(roi=sel_rois_tefb),\n",
    "    aspect=\"auto\",\n",
    "    cmap=\"Greys\",\n",
    "    origin=\"lower\",\n",
    "    vmin=0,\n",
    "    vmax=0.3,\n",
    ")\n",
    "# plt.yticks(range(TEff_s.sizes[\"roi\"]), TEff_s.roi.data)\n",
    "plt.title(\"TE to V1\", fontsize=6)\n",
    "plt.xticks(tidx, tticks, fontsize=6)\n",
    "plt.xlabel(\"Time [s]\", fontsize=6)\n",
    "plt.yticks(range(len(sel_rois) - 1), sel_rois[1:], fontsize=6)\n",
    "#plt.setp(axs3[4].get_xticklabels(), visible=False)\n",
    "\n",
    "norm = matplotlib.colors.Normalize(vmin=0, vmax=0.3)\n",
    "cmap = matplotlib.cm.get_cmap(\"Greys\")\n",
    "\n",
    "cbar = plt.colorbar(\n",
    "    mappable=plt.cm.ScalarMappable(cmap=cmap, norm=norm),\n",
    "    cax=axs3[5],\n",
    ")\n",
    "cbar.ax.tick_params(labelsize=6)\n",
    "cbar.ax.set_ylabel(\"\", fontsize=6, rotation=270, labelpad=14)\n",
    "\n",
    "############################################ Syn #############################################\"\n",
    "plt.sca(axs3[6])\n",
    "plt.imshow(\n",
    "    pid_strong[4].sel(roi=sel_rois_syn),\n",
    "    aspect=\"auto\",\n",
    "    cmap=\"Greys\",\n",
    "    origin=\"lower\",\n",
    "    vmin=0, vmax=.3\n",
    ")\n",
    "# plt.yticks(range(pid_weak[4].sizes[\"roi\"]), pid_weak[2].roi.data)\n",
    "plt.title(\"Synergy with V1\", fontsize=6)\n",
    "plt.xticks(tidx, tticks, fontsize=6)\n",
    "plt.xlabel(\"Time [s]\", fontsize=6)\n",
    "plt.yticks(range(len(sel_rois) - 1), sel_rois[1:], fontsize=6)\n",
    "\n",
    "norm = matplotlib.colors.Normalize(vmin=0, vmax=0.3)\n",
    "cmap = matplotlib.cm.get_cmap(\"Greys\")\n",
    "\n",
    "cbar = plt.colorbar(\n",
    "    mappable=plt.cm.ScalarMappable(cmap=cmap, norm=norm),\n",
    "    cax=axs3[7],\n",
    ")\n",
    "cbar.ax.tick_params(labelsize=6)\n",
    "cbar.ax.set_ylabel(\"\", fontsize=6, rotation=270, labelpad=14)\n",
    "#plt.setp(axs3[6].get_xticklabels(), visible=False)\n",
    "\n",
    "############################################ AIS polar #############################################\"\n",
    "plt.sca(axs4[0])\n",
    "N = 29\n",
    "theta = np.linspace(0, 2 * np.pi, N, endpoint=False)\n",
    "width = 0.25\n",
    "\n",
    "lines, labels = plt.thetagrids(theta * 360 / (2 * np.pi), (rates.roi.data), fontsize=6)\n",
    "\n",
    "# Plot actual sales graph\n",
    "plt.plot(theta, ais.sel(gba=0), \"r\")\n",
    "plt.fill(theta, ais.sel(gba=0), \"r\", alpha=0.1)\n",
    "plt.plot(theta, ais.sel(gba=1), \"b\")\n",
    "plt.fill(theta, ais.sel(gba=1), \"b\", alpha=0.1)\n",
    "plt.title(\"AIS\", fontsize=6)\n",
    "\n",
    "axs4[0].set_ylim([0, .75])\n",
    "#axs4[0].set_rticks([0, 0.35, .75])\n",
    "axs4[0].set_yticklabels(np.linspace(0, .75, 4), fontsize=6)\n",
    "\n",
    "############################################ TEff polar #############################################\n",
    "plt.sca(axs4[1])\n",
    "\n",
    "N = 28\n",
    "theta = np.linspace(0, 2 * np.pi, N, endpoint=False)\n",
    "width = 0.25\n",
    "\n",
    "rois = rates.roi.data[1:]\n",
    "\n",
    "lines, labels = plt.thetagrids(theta * 360 / (2 * np.pi), (rois), fontsize=6)\n",
    "\n",
    "\n",
    "# Plot actual sales graph\n",
    "plt.plot(theta, TEff_w_avg, \"r\")\n",
    "plt.fill(theta, TEff_w_avg, \"r\", alpha=0.1)\n",
    "plt.plot(theta, TEff_s_avg, \"b\")\n",
    "plt.fill(theta, TEff_s_avg, \"b\", alpha=0.1)\n",
    "plt.title(\"TE from V1\", fontsize=6)\n",
    "\n",
    "axs4[1].set_ylim([0, .1])\n",
    "#axs4[1].set_rticks([0, 0.05, .1])\n",
    "axs4[1].set_yticklabels(np.round(np.linspace(0, .035, 4), 3), fontsize=6)\n",
    "\n",
    "############################################ TEfb polar #############################################\n",
    "plt.sca(axs4[2])\n",
    "\n",
    "N = 28\n",
    "theta = np.linspace(0, 2 * np.pi, N, endpoint=False)\n",
    "width = 0.25\n",
    "\n",
    "rois = rates.roi.data[1:]\n",
    "\n",
    "lines, labels = plt.thetagrids(theta * 360 / (2 * np.pi), (rois), fontsize=6)\n",
    "\n",
    "# Plot actual sales graph\n",
    "plt.plot(theta, TEfb_w_avg, \"r\")\n",
    "plt.fill(theta, TEfb_w_avg, \"r\", alpha=0.1)\n",
    "plt.plot(theta, TEfb_s_avg, \"b\")\n",
    "plt.fill(theta, TEfb_s_avg, \"b\", alpha=0.1)\n",
    "plt.title(\"TE to V1\", fontsize=6)\n",
    "\n",
    "axs4[2].set_ylim([0,.1])\n",
    "#axs4[2].set_rticks([0, 0.05, .1], fontsize=6)\n",
    "axs4[2].set_yticklabels(np.round(np.linspace(0, .035, 4), 3), fontsize=6)\n",
    "\n",
    "############################################ SYn polar #############################################\n",
    "plt.sca(axs4[3])\n",
    "syn_w = pid_weak[-1].mean(\"times\")\n",
    "syn_s = pid_strong[-1].mean(\"times\")\n",
    "\n",
    "# Compute pie slices\n",
    "N = 28\n",
    "theta = np.linspace(0, 2 * np.pi, N, endpoint=False)\n",
    "width = 0.25\n",
    "rois = rates.roi.data[1:]\n",
    "\n",
    "lines, labels = plt.thetagrids(theta * 360 / (2 * np.pi), (rois), fontsize=6)\n",
    "\n",
    "\n",
    "# Plot actual sales graph\n",
    "plt.plot(theta, syn_w, \"r\", label=\"weak GBA\")\n",
    "plt.fill(theta, syn_w, \"r\", alpha=0.1)\n",
    "plt.plot(theta, syn_s, \"b\", label=\"strong GBA\")\n",
    "plt.fill(theta, syn_s, \"b\", alpha=0.1)\n",
    "plt.title(\"Synergy\", fontsize=6)\n",
    "\n",
    "axs4[3].set_ylim([0,.1])\n",
    "#axs4[3].set_rticks([0, .1], fontsize=6)\n",
    "axs4[3].set_yticklabels(np.round(np.linspace(0, .1, 4), 2), fontsize=6)\n",
    "\n",
    "\n",
    "axs4[3].legend(\n",
    "    loc=\"center left\",\n",
    "    bbox_to_anchor=(-2.5, -0.4),\n",
    "    ncol=2,\n",
    "    fontsize=8,\n",
    "    frameon=False,\n",
    ")\n",
    "\n",
    "############################################ Hierarchy relation #############################################\n",
    "plt.sca(axs5[0])\n",
    "\n",
    "rV1z = (rV1 - rV1.mean(\"times\")) / rV1.std(\"times\")\n",
    "r24cz = (r24c - r24c.mean(\"times\")) / r24c.std(\"times\") + 4\n",
    "synz = (syn - syn.mean(\"times\")) / syn.std(\"times\") + 8\n",
    "\n",
    "rV1z = rV1z.assign_coords({\"times\": (rV1z.times.data - 4500) / 1000})\n",
    "r24cz = r24cz.assign_coords({\"times\": (r24cz.times.data - 4500) / 1000})\n",
    "synz = synz.assign_coords({\"times\": (synz.times.data - 4500) / 1000})\n",
    "\n",
    "rV1z.plot(ax=axs5[0])\n",
    "r24cz.plot(ax=axs5[0])\n",
    "synz.plot(ax=axs5[0], c=\"g\")\n",
    "\n",
    "plt.vlines(rV1z.times[rV1z.argmax()].data, -1, 12, color=\"b\", ls=\"--\")\n",
    "plt.vlines(r24cz.times[r24cz.argmax()].data, -1, 12, color=\"orange\", ls=\"--\")\n",
    "plt.vlines(synz.times[synz.argmax()].data, -1, 12, color=\"green\", ls=\"--\")\n",
    "\n",
    "plt.text(-1.7, 0, \"V1\")\n",
    "plt.text(-1.7, 3.5, \"46d\")\n",
    "plt.text(-1.7, 8.2, \"syn(V1, 46d)\")\n",
    "\n",
    "plt.yticks([])\n",
    "plt.xticks(tticks, tticks, fontsize=6)\n",
    "plt.xlabel(\"Time [s]\", fontsize=6)\n",
    "#axs5[0].legend([\"rate V1\", \"4 * rate 46d\", \"350 * syn\"], frameon=False, fontsize=8)\n",
    "[axs5[0].spines[key].set_visible(False) for key in [\"top\", \"right\", \"left\"]]\n",
    "\n",
    "\n",
    "tidx, tticks = get_time_idx(rV1z.times.data)\n",
    "\n",
    "\n",
    "#plt.xticks(tidx, tticks, fontsize=6)\n",
    "plt.yticks(fontsize=6)\n",
    "plt.ylabel(\"\")\n",
    "plt.title(\"\")\n",
    "\n",
    "plt.sca(axs5[1])\n",
    "x = Distances[0, 1:]\n",
    "y = np.abs(tau1[1:].data - tau2.data) * 0.1\n",
    "x = x[rois != \"2\"]\n",
    "y = y[rois != \"2\"]\n",
    "sns.regplot(x=x, y=y, n_boot=100, ci=None)\n",
    "# for i, r in enumerate(rois[rois != \"2\"]):\n",
    "#    plt.text(x[i], y[i], r, fontsize=6)\n",
    "\n",
    "plt.ylabel(r\"$|t_r - t_{syn}|$\", fontsize=6)\n",
    "plt.xlabel(\" Distance from V1 [mm]\", fontsize=6)\n",
    "[axs5[1].spines[key].set_visible(False) for key in [\"top\", \"right\"]]\n",
    "r = np.corrcoef(x, y)[0, 1]\n",
    "# axs5[1].legend([f\"R = {r:.2f}\"], frameon=False, fontsize=8)\n",
    "plt.xticks(fontsize=6)\n",
    "plt.yticks(fontsize=6)\n",
    "plt.text(40, 20, f\"R = {r:.2f}\")\n",
    "\n",
    "\n",
    "################################################## SSS ##############################################################\n",
    "plt.sca(axs6[0])\n",
    "AISsel = AIS.sel(gba=1, roi=\"46d\")\n",
    "\n",
    "AISsel = AISsel.assign_coords({\"times\": SSSs.times.data})\n",
    "\n",
    "AISsel.plot(ax=axs6[0], x=\"times\", label=\"AIS\")\n",
    "SSSs.sel(roi=\"46d\").plot(ax=axs6[0], x=\"times\", label=\"stim. specific AIS\")\n",
    "\n",
    "tidx, tticks = get_time_idx(SSSs.times.data)\n",
    "plt.xticks(tticks, tticks, fontsize=6)\n",
    "plt.yticks(fontsize=6)\n",
    "\n",
    "plt.xlabel(\"Time [s]\", fontsize=6)\n",
    "#plt.ylabel(\"Stimulus specific storage\", fontsize=6)\n",
    "plt.title(\"area 46d\", fontsize=8, pad=15)\n",
    "[axs6[0].spines[key].set_visible(False) for key in [\"top\", \"right\"]]\n",
    "\n",
    "axs6[0].legend(\n",
    "    loc=\"upper center\",\n",
    "    bbox_to_anchor=(.5, 1.1),\n",
    "    ncol=2,\n",
    "    fontsize=8,\n",
    "    frameon=False,\n",
    ")\n",
    "\n",
    "bg = plot.Background(visible=False)\n",
    "\n",
    "plt.savefig(\"figures/panel_wang_ipp.pdf\")"
   ]
  },
  {
   "cell_type": "code",
   "execution_count": null,
   "id": "47cbd48e-9c2d-4f3f-b8a7-e3f666393a6a",
   "metadata": {},
   "outputs": [],
   "source": [
    "tticks"
   ]
  },
  {
   "cell_type": "code",
   "execution_count": null,
   "id": "800084b4-19bd-4d6e-ae3a-1ac33cdd1943",
   "metadata": {},
   "outputs": [],
   "source": [
    "tidx, tticks = get_time_idx(SSSs.times.data)\n"
   ]
  },
  {
   "cell_type": "code",
   "execution_count": null,
   "id": "17ca7860-c4f5-4526-829c-824bd5b9ba04",
   "metadata": {},
   "outputs": [],
   "source": [
    "tidx"
   ]
  },
  {
   "cell_type": "code",
   "execution_count": null,
   "id": "e414eef9-faeb-4c9f-8c7c-fccc43762c60",
   "metadata": {},
   "outputs": [],
   "source": []
  }
 ],
 "metadata": {
  "kernelspec": {
   "display_name": "Python 3 (ipykernel)",
   "language": "python",
   "name": "python3"
  },
  "language_info": {
   "codemirror_mode": {
    "name": "ipython",
    "version": 3
   },
   "file_extension": ".py",
   "mimetype": "text/x-python",
   "name": "python",
   "nbconvert_exporter": "python",
   "pygments_lexer": "ipython3",
   "version": "3.9.13"
  }
 },
 "nbformat": 4,
 "nbformat_minor": 5
}
